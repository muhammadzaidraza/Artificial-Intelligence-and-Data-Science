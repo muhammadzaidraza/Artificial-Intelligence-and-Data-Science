{
 "cells": [
  {
   "cell_type": "raw",
   "metadata": {},
   "source": [
    "# Data Wargling (Join)\n",
    "# => # => (inner, outer, left, right)\n",
    "# => df.join()\n",
    "# => df.merge()\n",
    "# => pd.concat()\n",
    "\n",
    "# Group by\n",
    "# => df.groupby(by)\n",
    "# => unstact\n",
    "# => pivot_Table\n",
    "\n",
    "# Handling Missing Values"
   ]
  },
  {
   "cell_type": "code",
   "execution_count": null,
   "metadata": {},
   "outputs": [],
   "source": [
    "import numpy as np\n",
    "import pandas as pd"
   ]
  },
  {
   "cell_type": "code",
   "execution_count": null,
   "metadata": {},
   "outputs": [],
   "source": [
    "df1 = pd.DataFrame({\"CNIC\": np.random.randint(1,20, size=20),\n",
    "                   \"Account No\":np.random.randint(1,5, size=(20))})\n",
    "\n",
    "df1\n",
    "#12345-1234567-3\n",
    "#1234512345673"
   ]
  },
  {
   "cell_type": "code",
   "execution_count": null,
   "metadata": {},
   "outputs": [],
   "source": [
    "df1[df1.duplicated()]"
   ]
  },
  {
   "cell_type": "code",
   "execution_count": null,
   "metadata": {},
   "outputs": [],
   "source": [
    "a = df1.drop_duplicates()\n",
    "print(len(a))\n",
    "a"
   ]
  },
  {
   "cell_type": "code",
   "execution_count": null,
   "metadata": {},
   "outputs": [],
   "source": [
    "a = df1.drop_duplicates(subset=\"CNIC\")\n",
    "print(len(a))\n",
    "a"
   ]
  },
  {
   "cell_type": "code",
   "execution_count": null,
   "metadata": {},
   "outputs": [],
   "source": [
    "a = df1.drop_duplicates(subset=[\"CNIC\",\"Account No\"], keep='last')\n",
    "print(len(a))\n",
    "a"
   ]
  },
  {
   "cell_type": "code",
   "execution_count": 37,
   "metadata": {},
   "outputs": [
    {
     "name": "stdout",
     "output_type": "stream",
     "text": [
      "5000\n"
     ]
    },
    {
     "data": {
      "text/html": [
       "<div>\n",
       "<style scoped>\n",
       "    .dataframe tbody tr th:only-of-type {\n",
       "        vertical-align: middle;\n",
       "    }\n",
       "\n",
       "    .dataframe tbody tr th {\n",
       "        vertical-align: top;\n",
       "    }\n",
       "\n",
       "    .dataframe thead th {\n",
       "        text-align: right;\n",
       "    }\n",
       "</style>\n",
       "<table border=\"1\" class=\"dataframe\">\n",
       "  <thead>\n",
       "    <tr style=\"text-align: right;\">\n",
       "      <th></th>\n",
       "      <th>CNIC</th>\n",
       "      <th>Account No</th>\n",
       "      <th>Mobile No</th>\n",
       "      <th>DOB</th>\n",
       "      <th>CustomerName</th>\n",
       "      <th>Gender</th>\n",
       "      <th>Balance</th>\n",
       "    </tr>\n",
       "  </thead>\n",
       "  <tbody>\n",
       "    <tr>\n",
       "      <th>0</th>\n",
       "      <td>4139</td>\n",
       "      <td>1</td>\n",
       "      <td>2458</td>\n",
       "      <td>1690-01-31</td>\n",
       "      <td>J</td>\n",
       "      <td>M</td>\n",
       "      <td>100998</td>\n",
       "    </tr>\n",
       "    <tr>\n",
       "      <th>1</th>\n",
       "      <td>2460</td>\n",
       "      <td>3</td>\n",
       "      <td>2241</td>\n",
       "      <td>1690-02-28</td>\n",
       "      <td>Z</td>\n",
       "      <td>F</td>\n",
       "      <td>26841</td>\n",
       "    </tr>\n",
       "    <tr>\n",
       "      <th>2</th>\n",
       "      <td>4811</td>\n",
       "      <td>1</td>\n",
       "      <td>2206</td>\n",
       "      <td>1690-03-31</td>\n",
       "      <td>W</td>\n",
       "      <td>F</td>\n",
       "      <td>820025</td>\n",
       "    </tr>\n",
       "    <tr>\n",
       "      <th>3</th>\n",
       "      <td>30</td>\n",
       "      <td>4</td>\n",
       "      <td>2179</td>\n",
       "      <td>1690-04-30</td>\n",
       "      <td>H</td>\n",
       "      <td>M</td>\n",
       "      <td>955755</td>\n",
       "    </tr>\n",
       "    <tr>\n",
       "      <th>4</th>\n",
       "      <td>4833</td>\n",
       "      <td>5</td>\n",
       "      <td>2651</td>\n",
       "      <td>1690-05-31</td>\n",
       "      <td>R</td>\n",
       "      <td>F</td>\n",
       "      <td>996303</td>\n",
       "    </tr>\n",
       "    <tr>\n",
       "      <th>...</th>\n",
       "      <td>...</td>\n",
       "      <td>...</td>\n",
       "      <td>...</td>\n",
       "      <td>...</td>\n",
       "      <td>...</td>\n",
       "      <td>...</td>\n",
       "      <td>...</td>\n",
       "    </tr>\n",
       "    <tr>\n",
       "      <th>4995</th>\n",
       "      <td>2021</td>\n",
       "      <td>9</td>\n",
       "      <td>2239</td>\n",
       "      <td>2106-04-30</td>\n",
       "      <td>E</td>\n",
       "      <td>F</td>\n",
       "      <td>646860</td>\n",
       "    </tr>\n",
       "    <tr>\n",
       "      <th>4996</th>\n",
       "      <td>4445</td>\n",
       "      <td>5</td>\n",
       "      <td>2745</td>\n",
       "      <td>2106-05-31</td>\n",
       "      <td>N</td>\n",
       "      <td>F</td>\n",
       "      <td>249205</td>\n",
       "    </tr>\n",
       "    <tr>\n",
       "      <th>4997</th>\n",
       "      <td>1860</td>\n",
       "      <td>2</td>\n",
       "      <td>2232</td>\n",
       "      <td>2106-06-30</td>\n",
       "      <td>G</td>\n",
       "      <td>F</td>\n",
       "      <td>307278</td>\n",
       "    </tr>\n",
       "    <tr>\n",
       "      <th>4998</th>\n",
       "      <td>13</td>\n",
       "      <td>6</td>\n",
       "      <td>2662</td>\n",
       "      <td>2106-07-31</td>\n",
       "      <td>Z</td>\n",
       "      <td>M</td>\n",
       "      <td>235394</td>\n",
       "    </tr>\n",
       "    <tr>\n",
       "      <th>4999</th>\n",
       "      <td>3489</td>\n",
       "      <td>2</td>\n",
       "      <td>2169</td>\n",
       "      <td>2106-08-31</td>\n",
       "      <td>L</td>\n",
       "      <td>F</td>\n",
       "      <td>312192</td>\n",
       "    </tr>\n",
       "  </tbody>\n",
       "</table>\n",
       "<p>5000 rows × 7 columns</p>\n",
       "</div>"
      ],
      "text/plain": [
       "      CNIC  Account No  Mobile No        DOB CustomerName Gender  Balance\n",
       "0     4139           1       2458 1690-01-31            J      M   100998\n",
       "1     2460           3       2241 1690-02-28            Z      F    26841\n",
       "2     4811           1       2206 1690-03-31            W      F   820025\n",
       "3       30           4       2179 1690-04-30            H      M   955755\n",
       "4     4833           5       2651 1690-05-31            R      F   996303\n",
       "...    ...         ...        ...        ...          ...    ...      ...\n",
       "4995  2021           9       2239 2106-04-30            E      F   646860\n",
       "4996  4445           5       2745 2106-05-31            N      F   249205\n",
       "4997  1860           2       2232 2106-06-30            G      F   307278\n",
       "4998    13           6       2662 2106-07-31            Z      M   235394\n",
       "4999  3489           2       2169 2106-08-31            L      F   312192\n",
       "\n",
       "[5000 rows x 7 columns]"
      ]
     },
     "execution_count": 37,
     "metadata": {},
     "output_type": "execute_result"
    }
   ],
   "source": [
    "size = 5000\n",
    "df2 = pd.DataFrame({\"CNIC\": np.random.randint(1,size, size=(size)),\n",
    "                   \"Account No\":np.random.randint(1,10, size=(size)),\n",
    "                   \"Mobile No\":np.random.randint(2001,3000, size=(size)),\n",
    "                  \"DOB\":pd.date_range('1690-01-01', periods=size, freq=\"M\"),\n",
    "                  \"CustomerName\":[chr(x) for x in np.random.randint(65,91, size=(size))],\n",
    "                   \"Gender\":np.random.choice([\"M\",\"F\"], size=(size)),\n",
    "                   \"Balance\": np.random.randint(1,1000000, size=(size))})\n",
    "df2.drop_duplicates(inplace=True)\n",
    "print(len(df2))\n",
    "df2"
   ]
  },
  {
   "cell_type": "code",
   "execution_count": null,
   "metadata": {},
   "outputs": [],
   "source": [
    "a = pd.DataFrame(df2.Gender.value_counts())\n",
    "a"
   ]
  },
  {
   "cell_type": "code",
   "execution_count": null,
   "metadata": {},
   "outputs": [],
   "source": [
    "b=df2.groupby(df2.Gender)[['Balance']].agg(['sum'])\n",
    "b"
   ]
  },
  {
   "cell_type": "code",
   "execution_count": null,
   "metadata": {},
   "outputs": [],
   "source": [
    "a.merge(b,left_index=True, right_index=True)"
   ]
  },
  {
   "cell_type": "code",
   "execution_count": null,
   "metadata": {},
   "outputs": [],
   "source": [
    "print(df1.dtypes, df2.dtypes, sep=\"\\n\\n\\n\")"
   ]
  },
  {
   "cell_type": "raw",
   "metadata": {},
   "source": [
    "columnNameSameInBothDataframes\n",
    "Name(optional), datatype, data_pattern\n",
    "\n",
    "#data_frame_left.merge(dataframe_right, \n",
    "    on=\"columnNameSameInBothDataframes\", \n",
    "    how=\"typeofJoin\")\n",
    "#typeofJoin=inner,outer,left,right\n",
    "\n",
    "#dataframe_right.merge(data_frame_left, on=[col1,col2,col3], how=\"typeofJoin\")\n",
    "\n",
    "#data_frame_left.merge(dataframe_right, on=[col1,col2,col3], how=\"typeofJoin\")\n",
    "\n",
    "#if columns name differents in both table \n",
    "\n",
    "#data_frame_left.merge(dataframe_right, left_on=\"col\", right_on=\"col\", how=\"typeofJoin\")\n",
    "\n",
    "#data_frame_left.merge(dataframe_right, left_index=True, right_index=True, how='outer')\n",
    "\n"
   ]
  },
  {
   "cell_type": "markdown",
   "metadata": {},
   "source": [
    "#### data_frame_left.merge(dataframe_right, on=\"columnNameSameInBothDataframes\", how=\"typeofJoin\")"
   ]
  },
  {
   "cell_type": "code",
   "execution_count": null,
   "metadata": {},
   "outputs": [],
   "source": [
    "a = df1.merge(df2, on=\"CNIC\", how='inner')\n",
    "print(len(a))\n",
    "a"
   ]
  },
  {
   "cell_type": "markdown",
   "metadata": {},
   "source": [
    "### data_frame_left.merge(dataframe_right, on=[col1,col2,col3], how=\"typeofJoin\")"
   ]
  },
  {
   "cell_type": "code",
   "execution_count": null,
   "metadata": {},
   "outputs": [],
   "source": [
    "a = df1.merge(df2, on=[\"CNIC\",\"Account No\"], how=\"inner\") #Join with multiples columns\n",
    "a"
   ]
  },
  {
   "cell_type": "markdown",
   "metadata": {},
   "source": [
    "##### data_frame_left.merge(dataframe_right, left_on=\"col\", right_on=\"col\", how=\"typeofJoin\")"
   ]
  },
  {
   "cell_type": "code",
   "execution_count": null,
   "metadata": {},
   "outputs": [],
   "source": [
    "df1.columns"
   ]
  },
  {
   "cell_type": "code",
   "execution_count": null,
   "metadata": {},
   "outputs": [],
   "source": [
    "df1.columns = ['Customer CNIC', 'Customer Account No']\n",
    "df1.head(2)"
   ]
  },
  {
   "cell_type": "code",
   "execution_count": null,
   "metadata": {},
   "outputs": [],
   "source": [
    "df2.head(2)"
   ]
  },
  {
   "cell_type": "code",
   "execution_count": null,
   "metadata": {},
   "outputs": [],
   "source": [
    "a = df1.merge(df2, left_on=\"Customer CNIC\", right_on=\"CNIC\")\n",
    "a"
   ]
  },
  {
   "cell_type": "code",
   "execution_count": null,
   "metadata": {},
   "outputs": [],
   "source": [
    "a = df1.merge(df2, left_on=[\"Customer CNIC\",\"Customer Account No\"], right_on=[\"CNIC\",\"Account No\"])\n",
    "a"
   ]
  },
  {
   "cell_type": "markdown",
   "metadata": {},
   "source": [
    "##### data_frame_left.merge(dataframe_right, left_index=True, right_index=True, how='outer')\n"
   ]
  },
  {
   "cell_type": "code",
   "execution_count": null,
   "metadata": {},
   "outputs": [],
   "source": [
    "customers = pd.DataFrame({\"Customers NIC\": [14,6,19,22],\"Customer Name\":[\"A\",\"B\",\"C\",\"D\"]})\n",
    "\n",
    "\n",
    "transactions = pd.DataFrame({\"CNIC\": np.random.choice([14,6,19,21], size=(20)),\n",
    "                   \"TransactionID\":np.random.randint(1,2, size=(20)),\n",
    "                  \"Transaction Date\":pd.date_range('1990-01-01', periods=20, freq=\"M\"),\n",
    "                   \"Description\":np.random.choice([\"TopUP\",\"IBFT\",\"FT\"], size=(20)),\n",
    "                            \"Amount\":np.random.randint(1,1000000, size=(20))})\n",
    "\n",
    "\n",
    "customers"
   ]
  },
  {
   "cell_type": "code",
   "execution_count": null,
   "metadata": {},
   "outputs": [],
   "source": [
    "transactions"
   ]
  },
  {
   "cell_type": "code",
   "execution_count": null,
   "metadata": {},
   "outputs": [],
   "source": [
    "c = transactions.CNIC.value_counts()\n",
    "print(c.index)\n",
    "print(c.values)\n",
    "print()\n",
    "print(c)"
   ]
  },
  {
   "cell_type": "code",
   "execution_count": null,
   "metadata": {},
   "outputs": [],
   "source": [
    "a = customers.merge(c, left_on=\"Customers NIC\", right_index=True, how='left')\n",
    "a.columns = ['Customers NIC', 'Customer Name', 'Transaction counts']\n",
    "a"
   ]
  },
  {
   "cell_type": "code",
   "execution_count": null,
   "metadata": {},
   "outputs": [],
   "source": [
    "a = customers.merge(c, left_on=\"Customers NIC\", right_index=True, how='right')\n",
    "a.columns = ['Customers NIC', 'Customer Name', 'Transaction counts']\n",
    "a"
   ]
  },
  {
   "cell_type": "code",
   "execution_count": null,
   "metadata": {},
   "outputs": [],
   "source": [
    "a = customers.merge(c, left_on=\"Customers NIC\", right_index=True, how='inner')\n",
    "a.columns = ['Customers NIC', 'Customer Name', 'Transaction counts']\n",
    "a"
   ]
  },
  {
   "cell_type": "code",
   "execution_count": null,
   "metadata": {},
   "outputs": [],
   "source": [
    "a = customers.merge(c, left_on=\"Customers NIC\", right_index=True, how='outer')\n",
    "a.columns = ['Customers NIC', 'Customer Name', 'Transaction counts']\n",
    "a"
   ]
  },
  {
   "cell_type": "code",
   "execution_count": null,
   "metadata": {},
   "outputs": [],
   "source": [
    "#Checkpoint 4-5-2021"
   ]
  },
  {
   "cell_type": "markdown",
   "metadata": {},
   "source": [
    "# Slabs\n",
    "* pd.cut(series)\n",
    "* pd.qcut(series)"
   ]
  },
  {
   "cell_type": "code",
   "execution_count": 42,
   "metadata": {},
   "outputs": [
    {
     "name": "stdout",
     "output_type": "stream",
     "text": [
      "5000\n"
     ]
    },
    {
     "data": {
      "text/html": [
       "<div>\n",
       "<style scoped>\n",
       "    .dataframe tbody tr th:only-of-type {\n",
       "        vertical-align: middle;\n",
       "    }\n",
       "\n",
       "    .dataframe tbody tr th {\n",
       "        vertical-align: top;\n",
       "    }\n",
       "\n",
       "    .dataframe thead th {\n",
       "        text-align: right;\n",
       "    }\n",
       "</style>\n",
       "<table border=\"1\" class=\"dataframe\">\n",
       "  <thead>\n",
       "    <tr style=\"text-align: right;\">\n",
       "      <th></th>\n",
       "      <th>CNIC</th>\n",
       "      <th>Account No</th>\n",
       "      <th>Mobile No</th>\n",
       "      <th>DOB</th>\n",
       "      <th>CustomerName</th>\n",
       "      <th>Gender</th>\n",
       "      <th>Balance</th>\n",
       "    </tr>\n",
       "  </thead>\n",
       "  <tbody>\n",
       "    <tr>\n",
       "      <th>0</th>\n",
       "      <td>3865</td>\n",
       "      <td>2</td>\n",
       "      <td>2007</td>\n",
       "      <td>1690-01-31</td>\n",
       "      <td>A</td>\n",
       "      <td>F</td>\n",
       "      <td>118908</td>\n",
       "    </tr>\n",
       "    <tr>\n",
       "      <th>1</th>\n",
       "      <td>63</td>\n",
       "      <td>9</td>\n",
       "      <td>2215</td>\n",
       "      <td>1690-02-28</td>\n",
       "      <td>H</td>\n",
       "      <td>F</td>\n",
       "      <td>673862</td>\n",
       "    </tr>\n",
       "    <tr>\n",
       "      <th>2</th>\n",
       "      <td>3682</td>\n",
       "      <td>4</td>\n",
       "      <td>2858</td>\n",
       "      <td>1690-03-31</td>\n",
       "      <td>S</td>\n",
       "      <td>F</td>\n",
       "      <td>432704</td>\n",
       "    </tr>\n",
       "    <tr>\n",
       "      <th>3</th>\n",
       "      <td>18</td>\n",
       "      <td>2</td>\n",
       "      <td>2878</td>\n",
       "      <td>1690-04-30</td>\n",
       "      <td>J</td>\n",
       "      <td>M</td>\n",
       "      <td>152078</td>\n",
       "    </tr>\n",
       "    <tr>\n",
       "      <th>4</th>\n",
       "      <td>49</td>\n",
       "      <td>2</td>\n",
       "      <td>2208</td>\n",
       "      <td>1690-05-31</td>\n",
       "      <td>M</td>\n",
       "      <td>M</td>\n",
       "      <td>404261</td>\n",
       "    </tr>\n",
       "    <tr>\n",
       "      <th>...</th>\n",
       "      <td>...</td>\n",
       "      <td>...</td>\n",
       "      <td>...</td>\n",
       "      <td>...</td>\n",
       "      <td>...</td>\n",
       "      <td>...</td>\n",
       "      <td>...</td>\n",
       "    </tr>\n",
       "    <tr>\n",
       "      <th>4995</th>\n",
       "      <td>3356</td>\n",
       "      <td>6</td>\n",
       "      <td>2418</td>\n",
       "      <td>2106-04-30</td>\n",
       "      <td>D</td>\n",
       "      <td>F</td>\n",
       "      <td>300524</td>\n",
       "    </tr>\n",
       "    <tr>\n",
       "      <th>4996</th>\n",
       "      <td>634</td>\n",
       "      <td>8</td>\n",
       "      <td>2462</td>\n",
       "      <td>2106-05-31</td>\n",
       "      <td>W</td>\n",
       "      <td>M</td>\n",
       "      <td>574176</td>\n",
       "    </tr>\n",
       "    <tr>\n",
       "      <th>4997</th>\n",
       "      <td>2229</td>\n",
       "      <td>6</td>\n",
       "      <td>2493</td>\n",
       "      <td>2106-06-30</td>\n",
       "      <td>A</td>\n",
       "      <td>F</td>\n",
       "      <td>116475</td>\n",
       "    </tr>\n",
       "    <tr>\n",
       "      <th>4998</th>\n",
       "      <td>3200</td>\n",
       "      <td>4</td>\n",
       "      <td>2378</td>\n",
       "      <td>2106-07-31</td>\n",
       "      <td>S</td>\n",
       "      <td>M</td>\n",
       "      <td>804753</td>\n",
       "    </tr>\n",
       "    <tr>\n",
       "      <th>4999</th>\n",
       "      <td>2069</td>\n",
       "      <td>1</td>\n",
       "      <td>2008</td>\n",
       "      <td>2106-08-31</td>\n",
       "      <td>Z</td>\n",
       "      <td>F</td>\n",
       "      <td>324007</td>\n",
       "    </tr>\n",
       "  </tbody>\n",
       "</table>\n",
       "<p>5000 rows × 7 columns</p>\n",
       "</div>"
      ],
      "text/plain": [
       "      CNIC  Account No  Mobile No        DOB CustomerName Gender  Balance\n",
       "0     3865           2       2007 1690-01-31            A      F   118908\n",
       "1       63           9       2215 1690-02-28            H      F   673862\n",
       "2     3682           4       2858 1690-03-31            S      F   432704\n",
       "3       18           2       2878 1690-04-30            J      M   152078\n",
       "4       49           2       2208 1690-05-31            M      M   404261\n",
       "...    ...         ...        ...        ...          ...    ...      ...\n",
       "4995  3356           6       2418 2106-04-30            D      F   300524\n",
       "4996   634           8       2462 2106-05-31            W      M   574176\n",
       "4997  2229           6       2493 2106-06-30            A      F   116475\n",
       "4998  3200           4       2378 2106-07-31            S      M   804753\n",
       "4999  2069           1       2008 2106-08-31            Z      F   324007\n",
       "\n",
       "[5000 rows x 7 columns]"
      ]
     },
     "execution_count": 42,
     "metadata": {},
     "output_type": "execute_result"
    }
   ],
   "source": [
    "size = 5000\n",
    "df2 = pd.DataFrame({\"CNIC\": np.random.randint(1,size, size=(size)),\n",
    "                   \"Account No\":np.random.randint(1,10, size=(size)),\n",
    "                   \"Mobile No\":np.random.randint(2001,3000, size=(size)),\n",
    "                  \"DOB\":pd.date_range('1690-01-01', periods=size, freq=\"M\"),\n",
    "                  \"CustomerName\":[chr(x) for x in np.random.randint(65,91, size=(size))],\n",
    "                   \"Gender\":np.random.choice([\"M\",\"F\"], size=(size)),\n",
    "                   \"Balance\": np.random.randint(1,1000000, size=(size))})\n",
    "df2.drop_duplicates(inplace=True)\n",
    "print(len(df2))\n",
    "df2"
   ]
  },
  {
   "cell_type": "code",
   "execution_count": 39,
   "metadata": {},
   "outputs": [],
   "source": [
    "def slab(amount):\n",
    "    # This function return charges of transation depends on prices on range\n",
    "    if amount >= 1000000:\n",
    "        return 60\n",
    "    elif amount >= 500000:\n",
    "        return 55\n",
    "    elif amount >= 300000:\n",
    "        return 50\n",
    "    elif amount >= 100000:\n",
    "        return 45\n",
    "    elif amount >= 50000:\n",
    "        return 40\n",
    "    elif amount >= 20000:\n",
    "        return 35\n",
    "    elif amount >= 10000:\n",
    "        return 30\n",
    "    elif amount >= 5000:\n",
    "        return 25\n",
    "    elif amount >= 1000:\n",
    "        return 20\n",
    "    else:\n",
    "        return 0\n",
    "    "
   ]
  },
  {
   "cell_type": "code",
   "execution_count": 43,
   "metadata": {},
   "outputs": [],
   "source": [
    "df2['slabOne'] = df2['Balance'].apply(slab)"
   ]
  },
  {
   "cell_type": "code",
   "execution_count": 44,
   "metadata": {},
   "outputs": [
    {
     "data": {
      "text/plain": [
       "55    2527\n",
       "45    1016\n",
       "50     948\n",
       "40     240\n",
       "35     158\n",
       "30      50\n",
       "25      31\n",
       "20      23\n",
       "0        7\n",
       "Name: slabOne, dtype: int64"
      ]
     },
     "execution_count": 44,
     "metadata": {},
     "output_type": "execute_result"
    }
   ],
   "source": [
    "df2.slabOne.value_counts()"
   ]
  },
  {
   "cell_type": "code",
   "execution_count": 45,
   "metadata": {},
   "outputs": [
    {
     "data": {
      "text/html": [
       "<div>\n",
       "<style scoped>\n",
       "    .dataframe tbody tr th:only-of-type {\n",
       "        vertical-align: middle;\n",
       "    }\n",
       "\n",
       "    .dataframe tbody tr th {\n",
       "        vertical-align: top;\n",
       "    }\n",
       "\n",
       "    .dataframe thead th {\n",
       "        text-align: right;\n",
       "    }\n",
       "</style>\n",
       "<table border=\"1\" class=\"dataframe\">\n",
       "  <thead>\n",
       "    <tr style=\"text-align: right;\">\n",
       "      <th></th>\n",
       "      <th>CNIC</th>\n",
       "      <th>TransactionID</th>\n",
       "      <th>Transaction Date</th>\n",
       "      <th>Description</th>\n",
       "      <th>Amount</th>\n",
       "      <th>City</th>\n",
       "    </tr>\n",
       "  </thead>\n",
       "  <tbody>\n",
       "    <tr>\n",
       "      <th>0</th>\n",
       "      <td>6</td>\n",
       "      <td>1</td>\n",
       "      <td>1990-01-31</td>\n",
       "      <td>FT</td>\n",
       "      <td>621605</td>\n",
       "      <td>Lahore</td>\n",
       "    </tr>\n",
       "    <tr>\n",
       "      <th>1</th>\n",
       "      <td>21</td>\n",
       "      <td>1</td>\n",
       "      <td>1990-02-28</td>\n",
       "      <td>TopUP</td>\n",
       "      <td>861354</td>\n",
       "      <td>Karachi</td>\n",
       "    </tr>\n",
       "  </tbody>\n",
       "</table>\n",
       "</div>"
      ],
      "text/plain": [
       "   CNIC  TransactionID Transaction Date Description  Amount     City\n",
       "0     6              1       1990-01-31          FT  621605   Lahore\n",
       "1    21              1       1990-02-28       TopUP  861354  Karachi"
      ]
     },
     "execution_count": 45,
     "metadata": {},
     "output_type": "execute_result"
    }
   ],
   "source": [
    "transactions.head(2)"
   ]
  },
  {
   "cell_type": "code",
   "execution_count": 46,
   "metadata": {},
   "outputs": [
    {
     "data": {
      "text/plain": [
       "[1,\n",
       " 1000,\n",
       " 5000,\n",
       " 10000,\n",
       " 20000,\n",
       " 50000,\n",
       " 100000,\n",
       " 300000,\n",
       " 500000,\n",
       " 1000000,\n",
       " 100000000]"
      ]
     },
     "execution_count": 46,
     "metadata": {},
     "output_type": "execute_result"
    }
   ],
   "source": [
    "slabs = [1,1000,5000,10000,20000,50000,100000,300000,500000,1000000,100000000]\n",
    "slabs"
   ]
  },
  {
   "cell_type": "code",
   "execution_count": 47,
   "metadata": {},
   "outputs": [
    {
     "data": {
      "text/plain": [
       "0        (100000, 300000]\n",
       "1       (500000, 1000000]\n",
       "2        (300000, 500000]\n",
       "3        (100000, 300000]\n",
       "4        (300000, 500000]\n",
       "              ...        \n",
       "4995     (300000, 500000]\n",
       "4996    (500000, 1000000]\n",
       "4997     (100000, 300000]\n",
       "4998    (500000, 1000000]\n",
       "4999     (300000, 500000]\n",
       "Name: Balance, Length: 5000, dtype: category\n",
       "Categories (10, interval[int64]): [(1, 1000] < (1000, 5000] < (5000, 10000] < (10000, 20000] ... (100000, 300000] < (300000, 500000] < (500000, 1000000] < (1000000, 100000000]]"
      ]
     },
     "execution_count": 47,
     "metadata": {},
     "output_type": "execute_result"
    }
   ],
   "source": [
    "pd.cut(df2['Balance'],slabs)"
   ]
  },
  {
   "cell_type": "code",
   "execution_count": 48,
   "metadata": {},
   "outputs": [
    {
     "data": {
      "text/plain": [
       "(500000, 1000000]       2527\n",
       "(100000, 300000]        1016\n",
       "(300000, 500000]         948\n",
       "(50000, 100000]          240\n",
       "(20000, 50000]           158\n",
       "(10000, 20000]            50\n",
       "(5000, 10000]             31\n",
       "(1000, 5000]              23\n",
       "(1, 1000]                  7\n",
       "(1000000, 100000000]       0\n",
       "Name: Balance, dtype: int64"
      ]
     },
     "execution_count": 48,
     "metadata": {},
     "output_type": "execute_result"
    }
   ],
   "source": [
    "pd.cut(df2['Balance'],slabs).value_counts()"
   ]
  },
  {
   "cell_type": "code",
   "execution_count": 49,
   "metadata": {},
   "outputs": [
    {
     "data": {
      "text/plain": [
       "55    2527\n",
       "45    1016\n",
       "50     948\n",
       "40     240\n",
       "35     158\n",
       "30      50\n",
       "25      31\n",
       "20      23\n",
       "0        7\n",
       "60       0\n",
       "Name: Balance, dtype: int64"
      ]
     },
     "execution_count": 49,
     "metadata": {},
     "output_type": "execute_result"
    }
   ],
   "source": [
    "pd.cut(df2['Balance'],slabs,labels=[0,20,25,30,35,40,45,50,55,60]).value_counts()"
   ]
  },
  {
   "cell_type": "code",
   "execution_count": 54,
   "metadata": {},
   "outputs": [
    {
     "data": {
      "text/plain": [
       "[0, 0.5, 0.8, 0.95, 1]"
      ]
     },
     "execution_count": 54,
     "metadata": {},
     "output_type": "execute_result"
    }
   ],
   "source": [
    "slabs = [0,.5,.8,.95,1]\n",
    "slabs"
   ]
  },
  {
   "cell_type": "code",
   "execution_count": 58,
   "metadata": {},
   "outputs": [
    {
     "data": {
      "text/plain": [
       "(133.999, 506124.0]      2500\n",
       "(506124.0, 803121.4]     1500\n",
       "(803121.4, 947264.65]     750\n",
       "(947264.65, 999961.0]     250\n",
       "Name: Balance, dtype: int64"
      ]
     },
     "execution_count": 58,
     "metadata": {},
     "output_type": "execute_result"
    }
   ],
   "source": [
    "pd.qcut(df2['Balance'],slabs).value_counts()"
   ]
  },
  {
   "cell_type": "code",
   "execution_count": 59,
   "metadata": {},
   "outputs": [
    {
     "data": {
      "text/plain": [
       "(133.999, 506124.0]      50.0\n",
       "(506124.0, 803121.4]     30.0\n",
       "(803121.4, 947264.65]    15.0\n",
       "(947264.65, 999961.0]     5.0\n",
       "Name: Balance, dtype: float64"
      ]
     },
     "execution_count": 59,
     "metadata": {},
     "output_type": "execute_result"
    }
   ],
   "source": [
    "pd.qcut(df2['Balance'],slabs).value_counts()/5000*100"
   ]
  },
  {
   "cell_type": "code",
   "execution_count": null,
   "metadata": {},
   "outputs": [],
   "source": [
    "slabs = [0, 0.6, 0.8, .95, 1]\n",
    "pd.qcut(transactions.Amount,slabs).value_counts()"
   ]
  },
  {
   "cell_type": "markdown",
   "metadata": {},
   "source": [
    "# Group by"
   ]
  },
  {
   "cell_type": "code",
   "execution_count": null,
   "metadata": {},
   "outputs": [],
   "source": [
    "#dataframeName.groupby(\"Col\").agg([count])             optional(min,max,avg,sum, std)(int,float)\n",
    "#dataframeName.groupby(by=\"Col\")[[\"colname\"]].agg([count]) \n",
    "#dataframeName.groupby(by=[col1,col2,..]).agg([count]) "
   ]
  },
  {
   "cell_type": "code",
   "execution_count": 68,
   "metadata": {},
   "outputs": [
    {
     "data": {
      "text/html": [
       "<div>\n",
       "<style scoped>\n",
       "    .dataframe tbody tr th:only-of-type {\n",
       "        vertical-align: middle;\n",
       "    }\n",
       "\n",
       "    .dataframe tbody tr th {\n",
       "        vertical-align: top;\n",
       "    }\n",
       "\n",
       "    .dataframe thead th {\n",
       "        text-align: right;\n",
       "    }\n",
       "</style>\n",
       "<table border=\"1\" class=\"dataframe\">\n",
       "  <thead>\n",
       "    <tr style=\"text-align: right;\">\n",
       "      <th></th>\n",
       "      <th>CNIC</th>\n",
       "      <th>TransactionID</th>\n",
       "      <th>Transaction Date</th>\n",
       "      <th>Description</th>\n",
       "      <th>Amount</th>\n",
       "      <th>City</th>\n",
       "    </tr>\n",
       "  </thead>\n",
       "  <tbody>\n",
       "    <tr>\n",
       "      <th>0</th>\n",
       "      <td>14</td>\n",
       "      <td>1</td>\n",
       "      <td>1690-01-31</td>\n",
       "      <td>TopUP</td>\n",
       "      <td>672500</td>\n",
       "      <td>Lahore</td>\n",
       "    </tr>\n",
       "    <tr>\n",
       "      <th>1</th>\n",
       "      <td>19</td>\n",
       "      <td>1</td>\n",
       "      <td>1690-02-28</td>\n",
       "      <td>IBFT</td>\n",
       "      <td>352565</td>\n",
       "      <td>Islamabad</td>\n",
       "    </tr>\n",
       "    <tr>\n",
       "      <th>2</th>\n",
       "      <td>19</td>\n",
       "      <td>1</td>\n",
       "      <td>1690-03-31</td>\n",
       "      <td>FT</td>\n",
       "      <td>356680</td>\n",
       "      <td>Karachi</td>\n",
       "    </tr>\n",
       "    <tr>\n",
       "      <th>3</th>\n",
       "      <td>6</td>\n",
       "      <td>1</td>\n",
       "      <td>1690-04-30</td>\n",
       "      <td>TopUP</td>\n",
       "      <td>681237</td>\n",
       "      <td>Lahore</td>\n",
       "    </tr>\n",
       "    <tr>\n",
       "      <th>4</th>\n",
       "      <td>14</td>\n",
       "      <td>1</td>\n",
       "      <td>1690-05-31</td>\n",
       "      <td>TopUP</td>\n",
       "      <td>774639</td>\n",
       "      <td>Karachi</td>\n",
       "    </tr>\n",
       "    <tr>\n",
       "      <th>...</th>\n",
       "      <td>...</td>\n",
       "      <td>...</td>\n",
       "      <td>...</td>\n",
       "      <td>...</td>\n",
       "      <td>...</td>\n",
       "      <td>...</td>\n",
       "    </tr>\n",
       "    <tr>\n",
       "      <th>4995</th>\n",
       "      <td>19</td>\n",
       "      <td>1</td>\n",
       "      <td>2106-04-30</td>\n",
       "      <td>FT</td>\n",
       "      <td>328222</td>\n",
       "      <td>Karachi</td>\n",
       "    </tr>\n",
       "    <tr>\n",
       "      <th>4996</th>\n",
       "      <td>14</td>\n",
       "      <td>1</td>\n",
       "      <td>2106-05-31</td>\n",
       "      <td>FT</td>\n",
       "      <td>17690</td>\n",
       "      <td>Karachi</td>\n",
       "    </tr>\n",
       "    <tr>\n",
       "      <th>4997</th>\n",
       "      <td>6</td>\n",
       "      <td>1</td>\n",
       "      <td>2106-06-30</td>\n",
       "      <td>TopUP</td>\n",
       "      <td>325345</td>\n",
       "      <td>Islamabad</td>\n",
       "    </tr>\n",
       "    <tr>\n",
       "      <th>4998</th>\n",
       "      <td>21</td>\n",
       "      <td>1</td>\n",
       "      <td>2106-07-31</td>\n",
       "      <td>TopUP</td>\n",
       "      <td>228715</td>\n",
       "      <td>Lahore</td>\n",
       "    </tr>\n",
       "    <tr>\n",
       "      <th>4999</th>\n",
       "      <td>6</td>\n",
       "      <td>1</td>\n",
       "      <td>2106-08-31</td>\n",
       "      <td>TopUP</td>\n",
       "      <td>826929</td>\n",
       "      <td>Islamabad</td>\n",
       "    </tr>\n",
       "  </tbody>\n",
       "</table>\n",
       "<p>5000 rows × 6 columns</p>\n",
       "</div>"
      ],
      "text/plain": [
       "      CNIC  TransactionID Transaction Date Description  Amount       City\n",
       "0       14              1       1690-01-31       TopUP  672500     Lahore\n",
       "1       19              1       1690-02-28        IBFT  352565  Islamabad\n",
       "2       19              1       1690-03-31          FT  356680    Karachi\n",
       "3        6              1       1690-04-30       TopUP  681237     Lahore\n",
       "4       14              1       1690-05-31       TopUP  774639    Karachi\n",
       "...    ...            ...              ...         ...     ...        ...\n",
       "4995    19              1       2106-04-30          FT  328222    Karachi\n",
       "4996    14              1       2106-05-31          FT   17690    Karachi\n",
       "4997     6              1       2106-06-30       TopUP  325345  Islamabad\n",
       "4998    21              1       2106-07-31       TopUP  228715     Lahore\n",
       "4999     6              1       2106-08-31       TopUP  826929  Islamabad\n",
       "\n",
       "[5000 rows x 6 columns]"
      ]
     },
     "execution_count": 68,
     "metadata": {},
     "output_type": "execute_result"
    }
   ],
   "source": [
    "data_size = 5000\n",
    "transactions = pd.DataFrame({\"CNIC\": np.random.choice([14,6,19,21], size=(data_size)),\n",
    "                   \"TransactionID\":np.random.randint(1,2, size=(data_size)),\n",
    "                  \"Transaction Date\":pd.date_range('1690-01-01', periods=data_size, freq=\"M\"),\n",
    "                   \"Description\":np.random.choice([\"TopUP\",\"IBFT\",\"FT\"], size=(data_size)),\n",
    "                            \"Amount\":np.random.randint(1,1000000, size=(data_size)),\n",
    "                            \"City\":np.random.choice([\"Karachi\",\"Islamabad\",\"Lahore\"], size=(data_size))})\n",
    "\n",
    "\n",
    "\n",
    "transactions"
   ]
  },
  {
   "cell_type": "code",
   "execution_count": 61,
   "metadata": {},
   "outputs": [
    {
     "data": {
      "text/html": [
       "<div>\n",
       "<style scoped>\n",
       "    .dataframe tbody tr th:only-of-type {\n",
       "        vertical-align: middle;\n",
       "    }\n",
       "\n",
       "    .dataframe tbody tr th {\n",
       "        vertical-align: top;\n",
       "    }\n",
       "\n",
       "    .dataframe thead tr th {\n",
       "        text-align: left;\n",
       "    }\n",
       "\n",
       "    .dataframe thead tr:last-of-type th {\n",
       "        text-align: right;\n",
       "    }\n",
       "</style>\n",
       "<table border=\"1\" class=\"dataframe\">\n",
       "  <thead>\n",
       "    <tr>\n",
       "      <th></th>\n",
       "      <th>CNIC</th>\n",
       "      <th>TransactionID</th>\n",
       "      <th>Transaction Date</th>\n",
       "      <th>Description</th>\n",
       "      <th>Amount</th>\n",
       "    </tr>\n",
       "    <tr>\n",
       "      <th></th>\n",
       "      <th>count</th>\n",
       "      <th>count</th>\n",
       "      <th>count</th>\n",
       "      <th>count</th>\n",
       "      <th>count</th>\n",
       "    </tr>\n",
       "    <tr>\n",
       "      <th>City</th>\n",
       "      <th></th>\n",
       "      <th></th>\n",
       "      <th></th>\n",
       "      <th></th>\n",
       "      <th></th>\n",
       "    </tr>\n",
       "  </thead>\n",
       "  <tbody>\n",
       "    <tr>\n",
       "      <th>Islamabad</th>\n",
       "      <td>5</td>\n",
       "      <td>5</td>\n",
       "      <td>5</td>\n",
       "      <td>5</td>\n",
       "      <td>5</td>\n",
       "    </tr>\n",
       "    <tr>\n",
       "      <th>Karachi</th>\n",
       "      <td>7</td>\n",
       "      <td>7</td>\n",
       "      <td>7</td>\n",
       "      <td>7</td>\n",
       "      <td>7</td>\n",
       "    </tr>\n",
       "    <tr>\n",
       "      <th>Lahore</th>\n",
       "      <td>8</td>\n",
       "      <td>8</td>\n",
       "      <td>8</td>\n",
       "      <td>8</td>\n",
       "      <td>8</td>\n",
       "    </tr>\n",
       "  </tbody>\n",
       "</table>\n",
       "</div>"
      ],
      "text/plain": [
       "           CNIC TransactionID Transaction Date Description Amount\n",
       "          count         count            count       count  count\n",
       "City                                                             \n",
       "Islamabad     5             5                5           5      5\n",
       "Karachi       7             7                7           7      7\n",
       "Lahore        8             8                8           8      8"
      ]
     },
     "execution_count": 61,
     "metadata": {},
     "output_type": "execute_result"
    }
   ],
   "source": [
    "a = transactions.groupby(\"City\").agg(['count'])\n",
    "a"
   ]
  },
  {
   "cell_type": "code",
   "execution_count": 62,
   "metadata": {},
   "outputs": [
    {
     "data": {
      "text/plain": [
       "<pandas.core.groupby.generic.DataFrameGroupBy object at 0x00000252700D9488>"
      ]
     },
     "execution_count": 62,
     "metadata": {},
     "output_type": "execute_result"
    }
   ],
   "source": [
    "transactions.groupby(\"City\")"
   ]
  },
  {
   "cell_type": "code",
   "execution_count": 63,
   "metadata": {},
   "outputs": [
    {
     "data": {
      "text/html": [
       "<div>\n",
       "<style scoped>\n",
       "    .dataframe tbody tr th:only-of-type {\n",
       "        vertical-align: middle;\n",
       "    }\n",
       "\n",
       "    .dataframe tbody tr th {\n",
       "        vertical-align: top;\n",
       "    }\n",
       "\n",
       "    .dataframe thead tr th {\n",
       "        text-align: left;\n",
       "    }\n",
       "\n",
       "    .dataframe thead tr:last-of-type th {\n",
       "        text-align: right;\n",
       "    }\n",
       "</style>\n",
       "<table border=\"1\" class=\"dataframe\">\n",
       "  <thead>\n",
       "    <tr>\n",
       "      <th></th>\n",
       "      <th>CNIC</th>\n",
       "    </tr>\n",
       "    <tr>\n",
       "      <th></th>\n",
       "      <th>count</th>\n",
       "    </tr>\n",
       "    <tr>\n",
       "      <th>City</th>\n",
       "      <th></th>\n",
       "    </tr>\n",
       "  </thead>\n",
       "  <tbody>\n",
       "    <tr>\n",
       "      <th>Islamabad</th>\n",
       "      <td>5</td>\n",
       "    </tr>\n",
       "    <tr>\n",
       "      <th>Karachi</th>\n",
       "      <td>7</td>\n",
       "    </tr>\n",
       "    <tr>\n",
       "      <th>Lahore</th>\n",
       "      <td>8</td>\n",
       "    </tr>\n",
       "  </tbody>\n",
       "</table>\n",
       "</div>"
      ],
      "text/plain": [
       "           CNIC\n",
       "          count\n",
       "City           \n",
       "Islamabad     5\n",
       "Karachi       7\n",
       "Lahore        8"
      ]
     },
     "execution_count": 63,
     "metadata": {},
     "output_type": "execute_result"
    }
   ],
   "source": [
    "a = transactions.groupby(\"City\")[[\"CNIC\"]].agg(['count'])\n",
    "a"
   ]
  },
  {
   "cell_type": "code",
   "execution_count": 64,
   "metadata": {},
   "outputs": [
    {
     "data": {
      "text/html": [
       "<div>\n",
       "<style scoped>\n",
       "    .dataframe tbody tr th:only-of-type {\n",
       "        vertical-align: middle;\n",
       "    }\n",
       "\n",
       "    .dataframe tbody tr th {\n",
       "        vertical-align: top;\n",
       "    }\n",
       "\n",
       "    .dataframe thead tr th {\n",
       "        text-align: left;\n",
       "    }\n",
       "\n",
       "    .dataframe thead tr:last-of-type th {\n",
       "        text-align: right;\n",
       "    }\n",
       "</style>\n",
       "<table border=\"1\" class=\"dataframe\">\n",
       "  <thead>\n",
       "    <tr>\n",
       "      <th></th>\n",
       "      <th>City</th>\n",
       "    </tr>\n",
       "    <tr>\n",
       "      <th></th>\n",
       "      <th>count</th>\n",
       "    </tr>\n",
       "    <tr>\n",
       "      <th>City</th>\n",
       "      <th></th>\n",
       "    </tr>\n",
       "  </thead>\n",
       "  <tbody>\n",
       "    <tr>\n",
       "      <th>Islamabad</th>\n",
       "      <td>5</td>\n",
       "    </tr>\n",
       "    <tr>\n",
       "      <th>Karachi</th>\n",
       "      <td>7</td>\n",
       "    </tr>\n",
       "    <tr>\n",
       "      <th>Lahore</th>\n",
       "      <td>8</td>\n",
       "    </tr>\n",
       "  </tbody>\n",
       "</table>\n",
       "</div>"
      ],
      "text/plain": [
       "           City\n",
       "          count\n",
       "City           \n",
       "Islamabad     5\n",
       "Karachi       7\n",
       "Lahore        8"
      ]
     },
     "execution_count": 64,
     "metadata": {},
     "output_type": "execute_result"
    }
   ],
   "source": [
    "a = transactions.groupby(\"City\")[[\"City\"]].agg(['count'])\n",
    "a"
   ]
  },
  {
   "cell_type": "code",
   "execution_count": 65,
   "metadata": {},
   "outputs": [
    {
     "data": {
      "text/html": [
       "<div>\n",
       "<style scoped>\n",
       "    .dataframe tbody tr th:only-of-type {\n",
       "        vertical-align: middle;\n",
       "    }\n",
       "\n",
       "    .dataframe tbody tr th {\n",
       "        vertical-align: top;\n",
       "    }\n",
       "\n",
       "    .dataframe thead th {\n",
       "        text-align: right;\n",
       "    }\n",
       "</style>\n",
       "<table border=\"1\" class=\"dataframe\">\n",
       "  <thead>\n",
       "    <tr style=\"text-align: right;\">\n",
       "      <th></th>\n",
       "      <th>count</th>\n",
       "      <th>min</th>\n",
       "      <th>max</th>\n",
       "      <th>mean</th>\n",
       "      <th>std</th>\n",
       "    </tr>\n",
       "    <tr>\n",
       "      <th>City</th>\n",
       "      <th></th>\n",
       "      <th></th>\n",
       "      <th></th>\n",
       "      <th></th>\n",
       "      <th></th>\n",
       "    </tr>\n",
       "  </thead>\n",
       "  <tbody>\n",
       "    <tr>\n",
       "      <th>Islamabad</th>\n",
       "      <td>5</td>\n",
       "      <td>404094</td>\n",
       "      <td>646869</td>\n",
       "      <td>487450.400000</td>\n",
       "      <td>99595.454981</td>\n",
       "    </tr>\n",
       "    <tr>\n",
       "      <th>Karachi</th>\n",
       "      <td>7</td>\n",
       "      <td>91882</td>\n",
       "      <td>888194</td>\n",
       "      <td>402248.857143</td>\n",
       "      <td>280736.446701</td>\n",
       "    </tr>\n",
       "    <tr>\n",
       "      <th>Lahore</th>\n",
       "      <td>8</td>\n",
       "      <td>30613</td>\n",
       "      <td>952009</td>\n",
       "      <td>467462.750000</td>\n",
       "      <td>334848.078327</td>\n",
       "    </tr>\n",
       "  </tbody>\n",
       "</table>\n",
       "</div>"
      ],
      "text/plain": [
       "           count     min     max           mean            std\n",
       "City                                                          \n",
       "Islamabad      5  404094  646869  487450.400000   99595.454981\n",
       "Karachi        7   91882  888194  402248.857143  280736.446701\n",
       "Lahore         8   30613  952009  467462.750000  334848.078327"
      ]
     },
     "execution_count": 65,
     "metadata": {},
     "output_type": "execute_result"
    }
   ],
   "source": [
    "#a = transactions.groupby([\"City\"])[['Amount']].agg(['count',min,max, np.mean, np.std])\n",
    "a = transactions.groupby([\"City\"]).Amount.agg(['count',min,max, np.mean, np.std])\n",
    "a"
   ]
  },
  {
   "cell_type": "code",
   "execution_count": 66,
   "metadata": {},
   "outputs": [
    {
     "data": {
      "text/html": [
       "<div>\n",
       "<style scoped>\n",
       "    .dataframe tbody tr th:only-of-type {\n",
       "        vertical-align: middle;\n",
       "    }\n",
       "\n",
       "    .dataframe tbody tr th {\n",
       "        vertical-align: top;\n",
       "    }\n",
       "\n",
       "    .dataframe thead th {\n",
       "        text-align: right;\n",
       "    }\n",
       "</style>\n",
       "<table border=\"1\" class=\"dataframe\">\n",
       "  <thead>\n",
       "    <tr style=\"text-align: right;\">\n",
       "      <th></th>\n",
       "      <th></th>\n",
       "      <th>count</th>\n",
       "      <th>min</th>\n",
       "      <th>max</th>\n",
       "      <th>mean</th>\n",
       "      <th>std</th>\n",
       "    </tr>\n",
       "    <tr>\n",
       "      <th>City</th>\n",
       "      <th>Description</th>\n",
       "      <th></th>\n",
       "      <th></th>\n",
       "      <th></th>\n",
       "      <th></th>\n",
       "      <th></th>\n",
       "    </tr>\n",
       "  </thead>\n",
       "  <tbody>\n",
       "    <tr>\n",
       "      <th rowspan=\"2\" valign=\"top\">Islamabad</th>\n",
       "      <th>FT</th>\n",
       "      <td>3</td>\n",
       "      <td>404094</td>\n",
       "      <td>646869</td>\n",
       "      <td>504004.666667</td>\n",
       "      <td>126959.396133</td>\n",
       "    </tr>\n",
       "    <tr>\n",
       "      <th>IBFT</th>\n",
       "      <td>2</td>\n",
       "      <td>410733</td>\n",
       "      <td>514505</td>\n",
       "      <td>462619.000000</td>\n",
       "      <td>73377.884897</td>\n",
       "    </tr>\n",
       "    <tr>\n",
       "      <th rowspan=\"2\" valign=\"top\">Karachi</th>\n",
       "      <th>FT</th>\n",
       "      <td>3</td>\n",
       "      <td>248260</td>\n",
       "      <td>888194</td>\n",
       "      <td>584380.666667</td>\n",
       "      <td>321187.957323</td>\n",
       "    </tr>\n",
       "    <tr>\n",
       "      <th>TopUP</th>\n",
       "      <td>4</td>\n",
       "      <td>91882</td>\n",
       "      <td>427079</td>\n",
       "      <td>265650.000000</td>\n",
       "      <td>175500.548875</td>\n",
       "    </tr>\n",
       "    <tr>\n",
       "      <th rowspan=\"2\" valign=\"top\">Lahore</th>\n",
       "      <th>IBFT</th>\n",
       "      <td>2</td>\n",
       "      <td>30613</td>\n",
       "      <td>952009</td>\n",
       "      <td>491311.000000</td>\n",
       "      <td>651525.359758</td>\n",
       "    </tr>\n",
       "    <tr>\n",
       "      <th>TopUP</th>\n",
       "      <td>6</td>\n",
       "      <td>79747</td>\n",
       "      <td>861041</td>\n",
       "      <td>459513.333333</td>\n",
       "      <td>267903.235180</td>\n",
       "    </tr>\n",
       "  </tbody>\n",
       "</table>\n",
       "</div>"
      ],
      "text/plain": [
       "                       count     min     max           mean            std\n",
       "City      Description                                                     \n",
       "Islamabad FT               3  404094  646869  504004.666667  126959.396133\n",
       "          IBFT             2  410733  514505  462619.000000   73377.884897\n",
       "Karachi   FT               3  248260  888194  584380.666667  321187.957323\n",
       "          TopUP            4   91882  427079  265650.000000  175500.548875\n",
       "Lahore    IBFT             2   30613  952009  491311.000000  651525.359758\n",
       "          TopUP            6   79747  861041  459513.333333  267903.235180"
      ]
     },
     "execution_count": 66,
     "metadata": {},
     "output_type": "execute_result"
    }
   ],
   "source": [
    "a = transactions.groupby([\"City\",\"Description\"]).Amount.agg(['count',min,max, np.mean, np.std])\n",
    "a"
   ]
  },
  {
   "cell_type": "raw",
   "metadata": {},
   "source": [
    "Categorical data/nominal data\n",
    "'orange','mango'\n",
    "\n",
    "\n",
    "ordinal data\n",
    "1,3,2,4 (discreate/countinues)\n",
    "A,B,C\n",
    "a,b,c\n",
    "i,ii,iii"
   ]
  },
  {
   "cell_type": "code",
   "execution_count": null,
   "metadata": {},
   "outputs": [],
   "source": [
    "a = input(\"Enter no\")\n",
    "a.split(\"\")\n",
    "\n"
   ]
  },
  {
   "cell_type": "code",
   "execution_count": null,
   "metadata": {},
   "outputs": [],
   "source": [
    "list(str(232))"
   ]
  },
  {
   "cell_type": "code",
   "execution_count": null,
   "metadata": {},
   "outputs": [],
   "source": [
    "transactions.groupby([transactions['Transaction Date'].dt.year, \"City\",\"CNIC\"]).agg(['count'])"
   ]
  },
  {
   "cell_type": "code",
   "execution_count": null,
   "metadata": {},
   "outputs": [],
   "source": []
  }
 ],
 "metadata": {
  "kernelspec": {
   "display_name": "Python 3",
   "language": "python",
   "name": "python3"
  },
  "language_info": {
   "codemirror_mode": {
    "name": "ipython",
    "version": 3
   },
   "file_extension": ".py",
   "mimetype": "text/x-python",
   "name": "python",
   "nbconvert_exporter": "python",
   "pygments_lexer": "ipython3",
   "version": "3.8.5"
  }
 },
 "nbformat": 4,
 "nbformat_minor": 2
}
