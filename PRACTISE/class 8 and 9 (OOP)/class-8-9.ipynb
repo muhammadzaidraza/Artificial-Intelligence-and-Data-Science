{
 "cells": [
  {
   "cell_type": "code",
   "execution_count": 2,
   "metadata": {},
   "outputs": [],
   "source": [
    "class student():\n",
    "    pass\n",
    "\n",
    "s1 = student()\n",
    "s2 = student()\n",
    "s3 = student()"
   ]
  },
  {
   "cell_type": "code",
   "execution_count": 3,
   "metadata": {},
   "outputs": [],
   "source": [
    "class Student():\n",
    "    \n",
    "    def __init__(this, sid, name):\n",
    "        this.sid = sid\n",
    "        this.name = name\n",
    "        this.fname = \"\"\n",
    "        this.age = 0\n",
    "        \n",
    "    def login(this, user, password):\n",
    "        this.name = user\n",
    "        print(\"WELCOME! \",this.name)\n",
    "        \n",
    "    def logout(this):\n",
    "        pass\n",
    "    \n",
    "    def quiz_attempt(this):\n",
    "        pass\n",
    "        "
   ]
  },
  {
   "cell_type": "code",
   "execution_count": 4,
   "metadata": {},
   "outputs": [],
   "source": [
    "s1 = Student(1, \"Ali\")\n",
    "s2 = Student(20, \"Hamza\")\n",
    "s3 = Student(2, \"Kashif\")"
   ]
  },
  {
   "cell_type": "code",
   "execution_count": 5,
   "metadata": {},
   "outputs": [
    {
     "data": {
      "text/plain": [
       "'Kashif'"
      ]
     },
     "execution_count": 5,
     "metadata": {},
     "output_type": "execute_result"
    }
   ],
   "source": [
    "s3.name"
   ]
  },
  {
   "cell_type": "code",
   "execution_count": 6,
   "metadata": {},
   "outputs": [
    {
     "data": {
      "text/plain": [
       "0"
      ]
     },
     "execution_count": 6,
     "metadata": {},
     "output_type": "execute_result"
    }
   ],
   "source": [
    "s3.age"
   ]
  },
  {
   "cell_type": "code",
   "execution_count": 7,
   "metadata": {},
   "outputs": [
    {
     "data": {
      "text/plain": [
       "''"
      ]
     },
     "execution_count": 7,
     "metadata": {},
     "output_type": "execute_result"
    }
   ],
   "source": [
    "s3.fname"
   ]
  },
  {
   "cell_type": "code",
   "execution_count": 8,
   "metadata": {},
   "outputs": [
    {
     "data": {
      "text/plain": [
       "2"
      ]
     },
     "execution_count": 8,
     "metadata": {},
     "output_type": "execute_result"
    }
   ],
   "source": [
    "s3.sid"
   ]
  },
  {
   "cell_type": "code",
   "execution_count": 9,
   "metadata": {},
   "outputs": [
    {
     "name": "stdout",
     "output_type": "stream",
     "text": [
      "WELCOME!  Ali\n"
     ]
    }
   ],
   "source": [
    "s1.login(\"Ali\",\"11asdf\")"
   ]
  },
  {
   "cell_type": "code",
   "execution_count": 10,
   "metadata": {},
   "outputs": [
    {
     "name": "stdout",
     "output_type": "stream",
     "text": [
      "WELCOME!  zaid\n"
     ]
    }
   ],
   "source": [
    "s1.login(\"zaid\",\"11asdf\")"
   ]
  },
  {
   "cell_type": "code",
   "execution_count": 11,
   "metadata": {},
   "outputs": [
    {
     "data": {
      "text/plain": [
       "'zaid'"
      ]
     },
     "execution_count": 11,
     "metadata": {},
     "output_type": "execute_result"
    }
   ],
   "source": [
    "s1.name"
   ]
  },
  {
   "cell_type": "code",
   "execution_count": 12,
   "metadata": {},
   "outputs": [
    {
     "data": {
      "text/plain": [
       "''"
      ]
     },
     "execution_count": 12,
     "metadata": {},
     "output_type": "execute_result"
    }
   ],
   "source": [
    "s1.fname"
   ]
  },
  {
   "cell_type": "code",
   "execution_count": 13,
   "metadata": {},
   "outputs": [
    {
     "data": {
      "text/plain": [
       "1"
      ]
     },
     "execution_count": 13,
     "metadata": {},
     "output_type": "execute_result"
    }
   ],
   "source": [
    "s1.sid"
   ]
  },
  {
   "cell_type": "code",
   "execution_count": 14,
   "metadata": {},
   "outputs": [
    {
     "name": "stdout",
     "output_type": "stream",
     "text": [
      "WELCOME!  Abid\n"
     ]
    }
   ],
   "source": [
    "s2.login(\"Abid\",\"3sdjf\")"
   ]
  },
  {
   "cell_type": "code",
   "execution_count": 19,
   "metadata": {},
   "outputs": [
    {
     "data": {
      "text/plain": [
       "3"
      ]
     },
     "execution_count": 19,
     "metadata": {},
     "output_type": "execute_result"
    }
   ],
   "source": [
    "class A():\n",
    "    \n",
    "    counter = 0 #class variable\n",
    "    \n",
    "    def __init__(this):\n",
    "        this.sid = A.counter + 1\n",
    "        this.name = \"\"\n",
    "        this.fname = \"\"\n",
    "        A.counter += 1\n",
    "    \n",
    "obj1 = A()\n",
    "obj2 = A()\n",
    "obj3 = A()\n",
    "\n",
    "obj1.counter #class variable with ref to the object\n",
    "A.counter #class variable with ref to the class"
   ]
  },
  {
   "cell_type": "code",
   "execution_count": 21,
   "metadata": {},
   "outputs": [
    {
     "name": "stdout",
     "output_type": "stream",
     "text": [
      "1\n",
      "2\n",
      "3\n"
     ]
    }
   ],
   "source": [
    "print(obj1.sid, obj2.sid, obj3.sid, sep = \"\\n\")"
   ]
  },
  {
   "cell_type": "code",
   "execution_count": 24,
   "metadata": {},
   "outputs": [],
   "source": [
    "class Parent():\n",
    "    \n",
    "    def __init__(this):\n",
    "        this.id = 0\n",
    "        this.name = ''\n",
    "        this.dob = 0\n",
    "        \n",
    "    def speek(this,word):\n",
    "        print(word , \"!\")\n",
    "      \n",
    "    def listen(this):\n",
    "        pass\n",
    "    \n",
    "    def eating(this,food):\n",
    "        print(\"eating \", food)\n",
    "        \n",
    "class Child(Parent):\n",
    "    pass\n",
    "\n",
    "obj_p = Parent()\n",
    "obj_c = Child()"
   ]
  },
  {
   "cell_type": "code",
   "execution_count": 25,
   "metadata": {},
   "outputs": [],
   "source": [
    "class Father():\n",
    "    \n",
    "    def __init__(this):\n",
    "        this.name = \"\"\n",
    "        this.relation = \"\"\n",
    "    \n",
    "    def loof_after(this):\n",
    "        print(\"Father look after their child\")\n",
    "        \n",
    "    def earn_for(this):\n",
    "        print(\"Father earn chirldern\")\n",
    "\n",
    "class Mother():\n",
    "    \n",
    "    def __init__(this):\n",
    "        this.name = \"\"\n",
    "        this.relation = \"\"\n",
    "    \n",
    "    def loof_after(this):\n",
    "        print(\"Mother look after their child\")\n",
    "        \n",
    "    def earn_and_feed(this):\n",
    "        print(\"Mother loves chirldern\")\n",
    "    \n",
    "class Childern(Father,Mother):\n",
    "    pass\n",
    "\n",
    "obj_c = Childern()\n",
    "        "
   ]
  },
  {
   "cell_type": "code",
   "execution_count": 26,
   "metadata": {},
   "outputs": [
    {
     "name": "stdout",
     "output_type": "stream",
     "text": [
      "Father look after their child\n"
     ]
    }
   ],
   "source": [
    "obj_c.loof_after()"
   ]
  },
  {
   "cell_type": "code",
   "execution_count": 2,
   "metadata": {},
   "outputs": [
    {
     "name": "stdout",
     "output_type": "stream",
     "text": [
      "7\n",
      "9\n"
     ]
    }
   ],
   "source": [
    "class ABC():\n",
    "    \n",
    "    def __init__(this, x, y):\n",
    "        this.x=x\n",
    "        this.y=y\n",
    "        \n",
    "    def __add__(this, other):\n",
    "        print(this.x + other.x)\n",
    "        print(this.y + other.y)\n",
    "    \n",
    "obj1 = ABC(2,3)\n",
    "obj2 = ABC(5,6)\n",
    "\n",
    "obj1 + obj2"
   ]
  },
  {
   "cell_type": "code",
   "execution_count": 6,
   "metadata": {},
   "outputs": [
    {
     "name": "stdout",
     "output_type": "stream",
     "text": [
      "this parent clas function a .......\n",
      "this child clas function b .......\n",
      "this parent clas function c .......\n"
     ]
    }
   ],
   "source": [
    "class Parent():\n",
    "    def a(this):print(\"this parent clas function a .......\")\n",
    "    def b(this):print(\"this parent clas function b .......\")\n",
    "    def c(this):print(\"this parent clas function c .......\")\n",
    "\n",
    "class Child(Parent):\n",
    "    def b(this):print(\"this child clas function b .......\")\n",
    "        \n",
    "obj1 = Child()\n",
    "obj1.a()\n",
    "obj1.b()\n",
    "obj1.c()"
   ]
  },
  {
   "cell_type": "code",
   "execution_count": 7,
   "metadata": {},
   "outputs": [],
   "source": [
    "class ABC():\n",
    "    def __init__(this, name, age):\n",
    "        this.__sname = name\n",
    "        this.__age = age\n",
    "        \n",
    "s1 = ABC('ALI', 22)"
   ]
  },
  {
   "cell_type": "code",
   "execution_count": 8,
   "metadata": {},
   "outputs": [
    {
     "ename": "AttributeError",
     "evalue": "'ABC' object has no attribute 'sname'",
     "output_type": "error",
     "traceback": [
      "\u001b[0;31m---------------------------------------------------------------------------\u001b[0m",
      "\u001b[0;31mAttributeError\u001b[0m                            Traceback (most recent call last)",
      "\u001b[0;32m<ipython-input-8-a371708e03a9>\u001b[0m in \u001b[0;36m<module>\u001b[0;34m\u001b[0m\n\u001b[0;32m----> 1\u001b[0;31m \u001b[0ms1\u001b[0m\u001b[0;34m.\u001b[0m\u001b[0msname\u001b[0m\u001b[0;34m\u001b[0m\u001b[0;34m\u001b[0m\u001b[0m\n\u001b[0m",
      "\u001b[0;31mAttributeError\u001b[0m: 'ABC' object has no attribute 'sname'"
     ]
    }
   ],
   "source": [
    "s1.sname"
   ]
  },
  {
   "cell_type": "code",
   "execution_count": 9,
   "metadata": {},
   "outputs": [
    {
     "ename": "AttributeError",
     "evalue": "'ABC' object has no attribute '__sname'",
     "output_type": "error",
     "traceback": [
      "\u001b[0;31m---------------------------------------------------------------------------\u001b[0m",
      "\u001b[0;31mAttributeError\u001b[0m                            Traceback (most recent call last)",
      "\u001b[0;32m<ipython-input-9-2244f3c12d00>\u001b[0m in \u001b[0;36m<module>\u001b[0;34m\u001b[0m\n\u001b[0;32m----> 1\u001b[0;31m \u001b[0ms1\u001b[0m\u001b[0;34m.\u001b[0m\u001b[0m__sname\u001b[0m\u001b[0;34m\u001b[0m\u001b[0;34m\u001b[0m\u001b[0m\n\u001b[0m",
      "\u001b[0;31mAttributeError\u001b[0m: 'ABC' object has no attribute '__sname'"
     ]
    }
   ],
   "source": [
    "s1.__sname"
   ]
  },
  {
   "cell_type": "code",
   "execution_count": 10,
   "metadata": {},
   "outputs": [
    {
     "data": {
      "text/plain": [
       "'ALI'"
      ]
     },
     "execution_count": 10,
     "metadata": {},
     "output_type": "execute_result"
    }
   ],
   "source": [
    "s1._ABC__sname"
   ]
  },
  {
   "cell_type": "code",
   "execution_count": 11,
   "metadata": {},
   "outputs": [
    {
     "name": "stdout",
     "output_type": "stream",
     "text": [
      "Name:  Ali\n",
      "Age:  20\n"
     ]
    }
   ],
   "source": [
    "class ABC():\n",
    "    \n",
    "    def __init__(this, name, age):\n",
    "        this.__sname = name\n",
    "        this.__age = age\n",
    "        \n",
    "    def display(this):\n",
    "        print(\"Name: \",this.__sname)\n",
    "        print(\"Age: \",this.__age)\n",
    "        \n",
    "    def change(this ,a ,b):\n",
    "        this.__sname = a\n",
    "        this.__age = b\n",
    "    \n",
    "s1 = ABC(\"Ali\",20)\n",
    "s1.display()"
   ]
  },
  {
   "cell_type": "code",
   "execution_count": 12,
   "metadata": {},
   "outputs": [
    {
     "ename": "AttributeError",
     "evalue": "'ABC' object has no attribute 'dis'",
     "output_type": "error",
     "traceback": [
      "\u001b[0;31m---------------------------------------------------------------------------\u001b[0m",
      "\u001b[0;31mAttributeError\u001b[0m                            Traceback (most recent call last)",
      "\u001b[0;32m<ipython-input-12-2a50eb01c1b1>\u001b[0m in \u001b[0;36m<module>\u001b[0;34m\u001b[0m\n\u001b[1;32m      1\u001b[0m \u001b[0ms1\u001b[0m\u001b[0;34m.\u001b[0m\u001b[0mchange\u001b[0m\u001b[0;34m(\u001b[0m\u001b[0;34m\"Asif\"\u001b[0m\u001b[0;34m,\u001b[0m \u001b[0;36m25\u001b[0m\u001b[0;34m)\u001b[0m\u001b[0;34m\u001b[0m\u001b[0;34m\u001b[0m\u001b[0m\n\u001b[0;32m----> 2\u001b[0;31m \u001b[0ms1\u001b[0m\u001b[0;34m.\u001b[0m\u001b[0mdis\u001b[0m\u001b[0;34m(\u001b[0m\u001b[0;34m)\u001b[0m\u001b[0;34m\u001b[0m\u001b[0;34m\u001b[0m\u001b[0m\n\u001b[0m",
      "\u001b[0;31mAttributeError\u001b[0m: 'ABC' object has no attribute 'dis'"
     ]
    }
   ],
   "source": [
    "s1.change(\"Asif\", 25)\n",
    "s1.dis()"
   ]
  },
  {
   "cell_type": "code",
   "execution_count": 13,
   "metadata": {},
   "outputs": [
    {
     "name": "stdout",
     "output_type": "stream",
     "text": [
      "Name:  Ali\n",
      "Age:  20\n",
      "This is private method\n"
     ]
    }
   ],
   "source": [
    "class ABC():\n",
    "    \n",
    "    def __init__(this, name, age):\n",
    "        this.__sname = name\n",
    "        this.__age = age\n",
    "        \n",
    "    def display(this):\n",
    "        print(\"Name: \",this.__sname)\n",
    "        print(\"Age: \",this.__age)\n",
    "        this.__info() #class private method\n",
    "        \n",
    "    def change(this ,a ,b):\n",
    "        this.__sname = a\n",
    "        this.__age = b\n",
    "        \n",
    "    def __info(this):\n",
    "        print(\"This is private method\")\n",
    "    \n",
    "s1 = ABC(\"Ali\",20)\n",
    "s1.display()"
   ]
  },
  {
   "cell_type": "code",
   "execution_count": null,
   "metadata": {},
   "outputs": [],
   "source": [
    "from xyz import b # from xyz module import only b as"
   ]
  },
  {
   "cell_type": "code",
   "execution_count": null,
   "metadata": {},
   "outputs": [],
   "source": [
    "import numpy as np "
   ]
  },
  {
   "cell_type": "code",
   "execution_count": 16,
   "metadata": {},
   "outputs": [
    {
     "name": "stdout",
     "output_type": "stream",
     "text": [
      "<__main__.Male object at 0x7fecc6001400>\n"
     ]
    }
   ],
   "source": [
    "from abc import ABC, abstractmethod #Abstarct Class Method(ABC),\n",
    "\n",
    "class Human(ABC):\n",
    "    @abstractmethod #decorator\n",
    "    def __init__(this, name, age):\n",
    "        this.name = name\n",
    "        this.age = age\n",
    "\n",
    "class Male(Human):\n",
    "    def __init__(this, name, age): #to use init method we have to create it again in the child class without\n",
    "        this.name = name           #decorator\n",
    "        this.age = age\n",
    "        \n",
    "p = Human(\"Ali\",20)"
   ]
  },
  {
   "cell_type": "code",
   "execution_count": 17,
   "metadata": {},
   "outputs": [],
   "source": [
    "p = Male(\"Ali\",20)"
   ]
  },
  {
   "cell_type": "code",
   "execution_count": null,
   "metadata": {},
   "outputs": [],
   "source": []
  }
 ],
 "metadata": {
  "kernelspec": {
   "display_name": "Python 3",
   "language": "python",
   "name": "python3"
  },
  "language_info": {
   "codemirror_mode": {
    "name": "ipython",
    "version": 3
   },
   "file_extension": ".py",
   "mimetype": "text/x-python",
   "name": "python",
   "nbconvert_exporter": "python",
   "pygments_lexer": "ipython3",
   "version": "3.8.5"
  }
 },
 "nbformat": 4,
 "nbformat_minor": 4
}
