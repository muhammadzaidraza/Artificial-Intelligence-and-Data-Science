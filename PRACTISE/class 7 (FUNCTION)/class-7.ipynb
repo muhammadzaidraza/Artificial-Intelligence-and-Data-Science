{
 "cells": [
  {
   "cell_type": "code",
   "execution_count": 18,
   "metadata": {},
   "outputs": [
    {
     "name": "stdout",
     "output_type": "stream",
     "text": [
      "sorted according to id\n",
      "[{'id': 2, 'name': 'alex', 'skills': [1, 2, 6]}, {'id': 5, 'name': 'betaa', 'skills': [1, 2]}, {'id': 8, 'name': 'ninja', 'skills': [1, 2, 4, 9]}]\n",
      "\n",
      "\n",
      "sorted according to name\n",
      "[{'id': 2, 'name': 'alex', 'skills': [1, 2, 6]}, {'id': 5, 'name': 'betaa', 'skills': [1, 2]}, {'id': 8, 'name': 'ninja', 'skills': [1, 2, 4, 9]}]\n",
      "\n",
      "\n",
      "sorted according to skills length\n",
      "[{'id': 5, 'name': 'betaa', 'skills': [1, 2]}, {'id': 2, 'name': 'alex', 'skills': [1, 2, 6]}, {'id': 8, 'name': 'ninja', 'skills': [1, 2, 4, 9]}]\n"
     ]
    }
   ],
   "source": [
    "d1 = [{\"id\":2, \"name\":'alex',\"skills\":[1,2,6]},\n",
    "      {\"id\":5, \"name\":'betaa',\"skills\":[1,2]},\n",
    "      {\"id\":8, \"name\":'ninja',\"skills\":[1,2,4,9]}]\n",
    "\n",
    "print(\"sorted according to id\")\n",
    "print(sorted(d1, key = lambda d:d['id']))#soted by id\n",
    "print('\\n')\n",
    "\n",
    "print(\"sorted according to name\")\n",
    "print(sorted(d1, key = lambda d:d['name']))#soted by name\n",
    "print('\\n')\n",
    "\n",
    "print(\"sorted according to skills length\")\n",
    "print(sorted(d1, key = lambda d:len(d['skills'])))#soted by skills length\n"
   ]
  },
  {
   "cell_type": "code",
   "execution_count": 19,
   "metadata": {},
   "outputs": [
    {
     "name": "stdout",
     "output_type": "stream",
     "text": [
      "Pre Define Fucntions\n",
      "abcdfnjgn\n",
      "<class 'int'>\n",
      "2\n",
      "140694610478256\n"
     ]
    }
   ],
   "source": [
    "#PRE DEFINED FUNTIONS\n",
    "print(\"Pre Define Fucntions\")\n",
    "input(\"abc\")\n",
    "print(type(22))\n",
    "print(len('ad'))\n",
    "print(id('aa'))"
   ]
  },
  {
   "cell_type": "code",
   "execution_count": 21,
   "metadata": {},
   "outputs": [
    {
     "name": "stdout",
     "output_type": "stream",
     "text": [
      "pakistan zindabad\n",
      "My name is zaid\n",
      "pakistan zindabad\n",
      "My name is zaid\n",
      "pakistan zindabad\n",
      "My name is zaid\n",
      "pakistan zindabad\n",
      "My name is zaid\n",
      "pakistan zindabad\n",
      "My name is zaid\n",
      "pakistan zindabad\n",
      "My name is zaid\n",
      "pakistan zindabad\n",
      "My name is zaid\n",
      "pakistan zindabad\n",
      "My name is zaid\n"
     ]
    }
   ],
   "source": [
    "# USER DEFINED FUNCTION\n",
    "\n",
    "def xyz():\n",
    "    print(\"pakistan zindabad\")\n",
    "    print(\"My name is zaid\")\n",
    "\n",
    "xyz()\n",
    "xyz()\n",
    "xyz()\n",
    "xyz()\n",
    "xyz()\n",
    "xyz()\n",
    "xyz()\n",
    "xyz()"
   ]
  },
  {
   "cell_type": "code",
   "execution_count": 38,
   "metadata": {},
   "outputs": [
    {
     "name": "stdout",
     "output_type": "stream",
     "text": [
      "\n",
      "    SYLANI AI BATCH 2\n",
      "    student Id = 1\n",
      "    Name = zaid\n",
      "    Father name = aslam\n",
      "    Timing = AI\n",
      "    Course = 9-11\n",
      "    \n"
     ]
    }
   ],
   "source": [
    "def id_card(sid, sname, fname, course, timing):\n",
    "    print(\n",
    "    f\"\"\"\n",
    "    SYLANI AI BATCH 2\n",
    "    student Id = {sid}\n",
    "    Name = {sname}\n",
    "    Father name = {fname}\n",
    "    Timing = {course}\n",
    "    Course = {timing}\n",
    "    \"\"\"\n",
    "    )\n",
    "    \n",
    "id_card(1 , 'zaid' , 'aslam' , 'AI' , '9-11')"
   ]
  },
  {
   "cell_type": "code",
   "execution_count": 39,
   "metadata": {},
   "outputs": [
    {
     "ename": "TypeError",
     "evalue": "id_card() missing 3 required positional arguments: 'fname', 'course', and 'timing'",
     "output_type": "error",
     "traceback": [
      "\u001b[0;31m---------------------------------------------------------------------------\u001b[0m",
      "\u001b[0;31mTypeError\u001b[0m                                 Traceback (most recent call last)",
      "\u001b[0;32m<ipython-input-39-b6b9703aeac4>\u001b[0m in \u001b[0;36m<module>\u001b[0;34m\u001b[0m\n\u001b[0;32m----> 1\u001b[0;31m \u001b[0mid_card\u001b[0m\u001b[0;34m(\u001b[0m\u001b[0;36m1\u001b[0m\u001b[0;34m,\u001b[0m\u001b[0;34m'AI'\u001b[0m\u001b[0;34m)\u001b[0m\u001b[0;34m\u001b[0m\u001b[0;34m\u001b[0m\u001b[0m\n\u001b[0m",
      "\u001b[0;31mTypeError\u001b[0m: id_card() missing 3 required positional arguments: 'fname', 'course', and 'timing'"
     ]
    }
   ],
   "source": [
    "id_card(1,'AI')"
   ]
  },
  {
   "cell_type": "code",
   "execution_count": 40,
   "metadata": {},
   "outputs": [
    {
     "name": "stdout",
     "output_type": "stream",
     "text": [
      "\n",
      "    SYLANI AI BATCH 2\n",
      "    student Id = 1\n",
      "    Name = 9 to 12\n",
      "    Father name = Aslam\n",
      "    Timing = A.I\n",
      "    Course = Qasim\n",
      "    \n"
     ]
    }
   ],
   "source": [
    "id_card(1,'9 to 12','Aslam','A.I','Qasim')"
   ]
  },
  {
   "cell_type": "code",
   "execution_count": 46,
   "metadata": {},
   "outputs": [
    {
     "name": "stdout",
     "output_type": "stream",
     "text": [
      "\n",
      "    SYLANI AI BATCH 2\n",
      "    student Id = 1\n",
      "    Name = a\n",
      "    Father name = a\n",
      "    Timing = b\n",
      "    Course = a\n",
      "    \n",
      "\n",
      "    SYLANI AI BATCH 2\n",
      "    student Id = 2\n",
      "    Name = 2\n",
      "    Father name = 2\n",
      "    Timing = 2\n",
      "    Course = 2\n",
      "    \n",
      "\n",
      "    SYLANI AI BATCH 2\n",
      "    student Id = 3\n",
      "    Name = 3\n",
      "    Father name = 3\n",
      "    Timing = 3\n",
      "    Course = 3\n",
      "    \n"
     ]
    }
   ],
   "source": [
    "data = [\n",
    "    [1,'a','a','b','a'],\n",
    "    [2,2,2,2,2],\n",
    "    [3,3,3,3,3],\n",
    "]\n",
    "\n",
    "len(data)\n",
    "for i in data:\n",
    "    id_card(*i)"
   ]
  },
  {
   "cell_type": "code",
   "execution_count": 47,
   "metadata": {},
   "outputs": [
    {
     "ename": "TypeError",
     "evalue": "id_card() takes 5 positional arguments but 6 were given",
     "output_type": "error",
     "traceback": [
      "\u001b[0;31m---------------------------------------------------------------------------\u001b[0m",
      "\u001b[0;31mTypeError\u001b[0m                                 Traceback (most recent call last)",
      "\u001b[0;32m<ipython-input-47-1749ef21e0b0>\u001b[0m in \u001b[0;36m<module>\u001b[0;34m\u001b[0m\n\u001b[1;32m      7\u001b[0m \u001b[0mlen\u001b[0m\u001b[0;34m(\u001b[0m\u001b[0mdata\u001b[0m\u001b[0;34m)\u001b[0m\u001b[0;34m\u001b[0m\u001b[0;34m\u001b[0m\u001b[0m\n\u001b[1;32m      8\u001b[0m \u001b[0;32mfor\u001b[0m \u001b[0mi\u001b[0m \u001b[0;32min\u001b[0m \u001b[0mdata\u001b[0m\u001b[0;34m:\u001b[0m\u001b[0;34m\u001b[0m\u001b[0;34m\u001b[0m\u001b[0m\n\u001b[0;32m----> 9\u001b[0;31m     \u001b[0mid_card\u001b[0m\u001b[0;34m(\u001b[0m\u001b[0;34m*\u001b[0m\u001b[0mi\u001b[0m\u001b[0;34m)\u001b[0m\u001b[0;34m\u001b[0m\u001b[0;34m\u001b[0m\u001b[0m\n\u001b[0m",
      "\u001b[0;31mTypeError\u001b[0m: id_card() takes 5 positional arguments but 6 were given"
     ]
    }
   ],
   "source": [
    "data = [\n",
    "    [1,'a','a','b','a',2],\n",
    "    [2,2,2,2,2],\n",
    "    [3,3,3,3,3],\n",
    "]\n",
    "\n",
    "len(data)\n",
    "for i in data:\n",
    "    id_card(*i)"
   ]
  },
  {
   "cell_type": "code",
   "execution_count": 48,
   "metadata": {},
   "outputs": [
    {
     "name": "stdout",
     "output_type": "stream",
     "text": [
      "\n",
      "    SYLANI AI BATCH 2\n",
      "    student Id = 1\n",
      "    Name = a\n",
      "    Father name = a\n",
      "    Timing = b\n",
      "    Course = a\n",
      "    \n"
     ]
    },
    {
     "ename": "TypeError",
     "evalue": "id_card() missing 1 required positional argument: 'timing'",
     "output_type": "error",
     "traceback": [
      "\u001b[0;31m---------------------------------------------------------------------------\u001b[0m",
      "\u001b[0;31mTypeError\u001b[0m                                 Traceback (most recent call last)",
      "\u001b[0;32m<ipython-input-48-56a420279709>\u001b[0m in \u001b[0;36m<module>\u001b[0;34m\u001b[0m\n\u001b[1;32m      7\u001b[0m \u001b[0mlen\u001b[0m\u001b[0;34m(\u001b[0m\u001b[0mdata\u001b[0m\u001b[0;34m)\u001b[0m\u001b[0;34m\u001b[0m\u001b[0;34m\u001b[0m\u001b[0m\n\u001b[1;32m      8\u001b[0m \u001b[0;32mfor\u001b[0m \u001b[0mi\u001b[0m \u001b[0;32min\u001b[0m \u001b[0mdata\u001b[0m\u001b[0;34m:\u001b[0m\u001b[0;34m\u001b[0m\u001b[0;34m\u001b[0m\u001b[0m\n\u001b[0;32m----> 9\u001b[0;31m     \u001b[0mid_card\u001b[0m\u001b[0;34m(\u001b[0m\u001b[0;34m*\u001b[0m\u001b[0mi\u001b[0m\u001b[0;34m)\u001b[0m\u001b[0;34m\u001b[0m\u001b[0;34m\u001b[0m\u001b[0m\n\u001b[0m",
      "\u001b[0;31mTypeError\u001b[0m: id_card() missing 1 required positional argument: 'timing'"
     ]
    }
   ],
   "source": [
    "data = [\n",
    "    [1,'a','a','b','a'],\n",
    "    [2,2,2,2],\n",
    "    [3,3,3,3,3],\n",
    "]\n",
    "\n",
    "len(data)\n",
    "for i in data:\n",
    "    id_card(*i)"
   ]
  },
  {
   "cell_type": "code",
   "execution_count": 49,
   "metadata": {},
   "outputs": [],
   "source": [
    "def op(x,y,z):\n",
    "    print(x,y,z)\n",
    "    print(x+y+z)"
   ]
  },
  {
   "cell_type": "code",
   "execution_count": 50,
   "metadata": {},
   "outputs": [
    {
     "name": "stdout",
     "output_type": "stream",
     "text": [
      "3 2 4\n",
      "9\n"
     ]
    }
   ],
   "source": [
    "op(3,2,4)"
   ]
  },
  {
   "cell_type": "code",
   "execution_count": 51,
   "metadata": {},
   "outputs": [
    {
     "ename": "TypeError",
     "evalue": "op() missing 2 required positional arguments: 'y' and 'z'",
     "output_type": "error",
     "traceback": [
      "\u001b[0;31m---------------------------------------------------------------------------\u001b[0m",
      "\u001b[0;31mTypeError\u001b[0m                                 Traceback (most recent call last)",
      "\u001b[0;32m<ipython-input-51-d85de4e904cb>\u001b[0m in \u001b[0;36m<module>\u001b[0;34m\u001b[0m\n\u001b[0;32m----> 1\u001b[0;31m \u001b[0mop\u001b[0m\u001b[0;34m(\u001b[0m\u001b[0;36m2\u001b[0m\u001b[0;34m)\u001b[0m\u001b[0;34m\u001b[0m\u001b[0;34m\u001b[0m\u001b[0m\n\u001b[0m",
      "\u001b[0;31mTypeError\u001b[0m: op() missing 2 required positional arguments: 'y' and 'z'"
     ]
    }
   ],
   "source": [
    "op(2)"
   ]
  },
  {
   "cell_type": "code",
   "execution_count": 52,
   "metadata": {},
   "outputs": [],
   "source": [
    "def op(x,y=0,z=0): #optional arguments\n",
    "    print(x,y,z)\n",
    "    print(x+y+z)"
   ]
  },
  {
   "cell_type": "code",
   "execution_count": 53,
   "metadata": {},
   "outputs": [
    {
     "name": "stdout",
     "output_type": "stream",
     "text": [
      "2 0 0\n",
      "2\n"
     ]
    }
   ],
   "source": [
    "op(2)\n"
   ]
  },
  {
   "cell_type": "code",
   "execution_count": 54,
   "metadata": {},
   "outputs": [
    {
     "name": "stdout",
     "output_type": "stream",
     "text": [
      "2 4 0\n",
      "6\n"
     ]
    }
   ],
   "source": [
    "op(2,4)"
   ]
  },
  {
   "cell_type": "code",
   "execution_count": 55,
   "metadata": {},
   "outputs": [
    {
     "name": "stdout",
     "output_type": "stream",
     "text": [
      "4 5 8\n",
      "17\n"
     ]
    }
   ],
   "source": [
    "op(4,5,8)"
   ]
  },
  {
   "cell_type": "code",
   "execution_count": 56,
   "metadata": {},
   "outputs": [
    {
     "name": "stdout",
     "output_type": "stream",
     "text": [
      "zaid\n",
      "None\n",
      "None\n"
     ]
    }
   ],
   "source": [
    "print(print(print('zaid')))"
   ]
  },
  {
   "cell_type": "code",
   "execution_count": 57,
   "metadata": {},
   "outputs": [],
   "source": [
    "id_card??"
   ]
  },
  {
   "cell_type": "code",
   "execution_count": 60,
   "metadata": {},
   "outputs": [],
   "source": [
    "def id_card(sid, sname, fname, course, timing):#return function\n",
    "    return f\"\"\"\n",
    "    SYLANI AI BATCH 2\n",
    "    student Id = {sid}\n",
    "    Name = {sname}\n",
    "    Father name = {fname}\n",
    "    Timing = {course}\n",
    "    Course = {timing}\n",
    "    \"\"\"\n"
   ]
  },
  {
   "cell_type": "code",
   "execution_count": 61,
   "metadata": {},
   "outputs": [
    {
     "name": "stdout",
     "output_type": "stream",
     "text": [
      "\n",
      "    SYLANI AI BATCH 2\n",
      "    student Id = 1\n",
      "    Name = zaid\n",
      "    Father name = aslam\n",
      "    Timing = AI\n",
      "    Course = 9-11\n",
      "    \n"
     ]
    }
   ],
   "source": [
    "a = id_card(1,'zaid','aslam','AI','9-11')\n",
    "print(a)"
   ]
  },
  {
   "cell_type": "code",
   "execution_count": 63,
   "metadata": {},
   "outputs": [
    {
     "data": {
      "text/plain": [
       "9"
      ]
     },
     "execution_count": 63,
     "metadata": {},
     "output_type": "execute_result"
    }
   ],
   "source": [
    "def abc(x,y,z):\n",
    "    return x+y+z\n",
    "    return x*y*z\n",
    "abc(2,3,4)"
   ]
  },
  {
   "cell_type": "code",
   "execution_count": 64,
   "metadata": {},
   "outputs": [
    {
     "data": {
      "text/plain": [
       "(9, 24)"
      ]
     },
     "execution_count": 64,
     "metadata": {},
     "output_type": "execute_result"
    }
   ],
   "source": [
    "def abc(x,y,z):\n",
    "    return x+y+z  , x*y*z\n",
    "abc(2,3,4)"
   ]
  },
  {
   "cell_type": "code",
   "execution_count": 65,
   "metadata": {},
   "outputs": [
    {
     "name": "stdout",
     "output_type": "stream",
     "text": [
      "\n",
      "    SYLANI AI BATCH 2\n",
      "    student Id = 2\n",
      "    Name = zaid\n",
      "    Father name = aslam\n",
      "    Timing = AI\n",
      "    Course = 9-11\n",
      "    \n"
     ]
    }
   ],
   "source": [
    "def id_card(sid, sname, fname, course, timing): #keyword arguments\n",
    "    print(\n",
    "    f\"\"\"\n",
    "    SYLANI AI BATCH 2\n",
    "    student Id = {sid}\n",
    "    Name = {sname}\n",
    "    Father name = {fname}\n",
    "    Timing = {course}\n",
    "    Course = {timing}\n",
    "    \"\"\"\n",
    "    )\n",
    "    \n",
    "id_card( timing = '9-11' , course = 'AI' , sid = '2' , sname = 'zaid' , fname = 'aslam' )"
   ]
  },
  {
   "cell_type": "code",
   "execution_count": 66,
   "metadata": {},
   "outputs": [
    {
     "name": "stdout",
     "output_type": "stream",
     "text": [
      "[1, 'ABC', 'XYZ', 'A.I', 'AAA']\n"
     ]
    }
   ],
   "source": [
    "l1 = [1,\"ABC\",\"XYZ\",'A.I',\"AAA\"]\n",
    "print(l1) "
   ]
  },
  {
   "cell_type": "code",
   "execution_count": 67,
   "metadata": {},
   "outputs": [
    {
     "name": "stdout",
     "output_type": "stream",
     "text": [
      "1 ABC XYZ A.I AAA\n"
     ]
    }
   ],
   "source": [
    "l1 = [1,\"ABC\",\"XYZ\",'A.I',\"AAA\"]\n",
    "print(l1[0], l1[1], l1[2],l1[3], l1[4])"
   ]
  },
  {
   "cell_type": "code",
   "execution_count": 68,
   "metadata": {},
   "outputs": [
    {
     "name": "stdout",
     "output_type": "stream",
     "text": [
      "1 ABC XYZ A.I AAA\n"
     ]
    }
   ],
   "source": [
    "l1 = [1,\"ABC\",\"XYZ\",'A.I',\"AAA\"]\n",
    "print(*l1)"
   ]
  },
  {
   "cell_type": "code",
   "execution_count": 70,
   "metadata": {},
   "outputs": [
    {
     "name": "stdout",
     "output_type": "stream",
     "text": [
      "\n",
      "    PIAIC Islamabad\n",
      "    Student id: 1\n",
      "    Student Name: zaid\n",
      "    Father's Name: aslam\n",
      "    Course: AI\n",
      "    Timing: 9-11\n",
      "    \n"
     ]
    }
   ],
   "source": [
    "def id_card(sid, sname, fname, course, timing):\n",
    "    print(f\"\"\"\n",
    "    PIAIC Islamabad\n",
    "    Student id: {sid}\n",
    "    Student Name: {sname}\n",
    "    Father's Name: {fname}\n",
    "    Course: {course}\n",
    "    Timing: {timing}\n",
    "    \"\"\")\n",
    "\n",
    "d1 = {\n",
    "    'sid':'1',\n",
    "    'sname':'zaid',\n",
    "    'fname':'aslam',\n",
    "    'course':'AI',\n",
    "    'timing':'9-11',\n",
    "}\n",
    "\n",
    "id_card(**d1)"
   ]
  },
  {
   "cell_type": "code",
   "execution_count": 71,
   "metadata": {},
   "outputs": [
    {
     "name": "stdout",
     "output_type": "stream",
     "text": [
      "\n",
      "    PIAIC Islamabad\n",
      "    Student id: 1\n",
      "    Student Name: zaid\n",
      "    Father's Name: aslam\n",
      "    Course: AI\n",
      "    Timing: 9-11\n",
      "    \n"
     ]
    }
   ],
   "source": [
    "def id_card(sid, sname, fname, course, timing):\n",
    "    print(f\"\"\"\n",
    "    PIAIC Islamabad\n",
    "    Student id: {sid}\n",
    "    Student Name: {sname}\n",
    "    Father's Name: {fname}\n",
    "    Course: {course}\n",
    "    Timing: {timing}\n",
    "    \"\"\")\n",
    "\n",
    "d1 = {\n",
    "    'timing':'9-11',\n",
    "    'sid':'1',\n",
    "    'sname':'zaid',\n",
    "    'fname':'aslam',\n",
    "    'course':'AI'\n",
    "    \n",
    "}\n",
    "\n",
    "id_card(**d1)"
   ]
  },
  {
   "cell_type": "code",
   "execution_count": 72,
   "metadata": {},
   "outputs": [
    {
     "ename": "TypeError",
     "evalue": "id_card() got an unexpected keyword argument 'father_name'",
     "output_type": "error",
     "traceback": [
      "\u001b[0;31m---------------------------------------------------------------------------\u001b[0m",
      "\u001b[0;31mTypeError\u001b[0m                                 Traceback (most recent call last)",
      "\u001b[0;32m<ipython-input-72-1809d8f0d560>\u001b[0m in \u001b[0;36m<module>\u001b[0;34m\u001b[0m\n\u001b[1;32m     18\u001b[0m }\n\u001b[1;32m     19\u001b[0m \u001b[0;34m\u001b[0m\u001b[0m\n\u001b[0;32m---> 20\u001b[0;31m \u001b[0mid_card\u001b[0m\u001b[0;34m(\u001b[0m\u001b[0;34m**\u001b[0m\u001b[0md1\u001b[0m\u001b[0;34m)\u001b[0m\u001b[0;34m\u001b[0m\u001b[0;34m\u001b[0m\u001b[0m\n\u001b[0m",
      "\u001b[0;31mTypeError\u001b[0m: id_card() got an unexpected keyword argument 'father_name'"
     ]
    }
   ],
   "source": [
    "def id_card(sid, sname, fname, course, timing):\n",
    "    print(f\"\"\"\n",
    "    PIAIC Islamabad\n",
    "    Student id: {sid}\n",
    "    Student Name: {sname}\n",
    "    Father's Name: {fname}\n",
    "    Course: {course}\n",
    "    Timing: {timing}\n",
    "    \"\"\")\n",
    "\n",
    "d1 = {\n",
    "    'timing':'9-11',\n",
    "    'sid':'1',\n",
    "    'sname':'zaid',\n",
    "    'father_name':'aslam',\n",
    "    'course':'AI'\n",
    "    \n",
    "}\n",
    "\n",
    "id_card(**d1)"
   ]
  },
  {
   "cell_type": "code",
   "execution_count": 1,
   "metadata": {},
   "outputs": [
    {
     "name": "stdout",
     "output_type": "stream",
     "text": [
      "zaid\n",
      "18\n"
     ]
    }
   ],
   "source": [
    "def abc(name, *numbers):\n",
    "    print(name)\n",
    "    print(sum(numbers))\n",
    "\n",
    "abc('zaid',3,4,5,6)"
   ]
  },
  {
   "cell_type": "code",
   "execution_count": 7,
   "metadata": {},
   "outputs": [
    {
     "name": "stdout",
     "output_type": "stream",
     "text": [
      "zaid\n",
      "dsfjkhsd\n",
      "11\n"
     ]
    }
   ],
   "source": [
    "def abc(name , xyz , *numbers):\n",
    "    print(name)\n",
    "    print(xyz)\n",
    "    print(sum(numbers))\n",
    "\n",
    "abc('zaid' , 'dsfjkhsd' , 2 , 4 , 5)"
   ]
  },
  {
   "cell_type": "code",
   "execution_count": 13,
   "metadata": {},
   "outputs": [
    {
     "ename": "TypeError",
     "evalue": "abc() missing 1 required keyword-only argument: 'name'",
     "output_type": "error",
     "traceback": [
      "\u001b[0;31m---------------------------------------------------------------------------\u001b[0m",
      "\u001b[0;31mTypeError\u001b[0m                                 Traceback (most recent call last)",
      "\u001b[0;32m<ipython-input-13-494a8e8fee97>\u001b[0m in \u001b[0;36m<module>\u001b[0;34m\u001b[0m\n\u001b[1;32m      3\u001b[0m     \u001b[0mprint\u001b[0m\u001b[0;34m(\u001b[0m\u001b[0msum\u001b[0m\u001b[0;34m(\u001b[0m\u001b[0mnumbers\u001b[0m\u001b[0;34m)\u001b[0m\u001b[0;34m)\u001b[0m\u001b[0;34m\u001b[0m\u001b[0;34m\u001b[0m\u001b[0m\n\u001b[1;32m      4\u001b[0m \u001b[0;34m\u001b[0m\u001b[0m\n\u001b[0;32m----> 5\u001b[0;31m \u001b[0mabc\u001b[0m\u001b[0;34m(\u001b[0m\u001b[0;36m2\u001b[0m\u001b[0;34m,\u001b[0m\u001b[0;36m3\u001b[0m\u001b[0;34m,\u001b[0m\u001b[0;36m4\u001b[0m\u001b[0;34m,\u001b[0m\u001b[0;36m5\u001b[0m\u001b[0;34m,\u001b[0m\u001b[0;34m'zaid'\u001b[0m\u001b[0;34m)\u001b[0m\u001b[0;34m\u001b[0m\u001b[0;34m\u001b[0m\u001b[0m\n\u001b[0m",
      "\u001b[0;31mTypeError\u001b[0m: abc() missing 1 required keyword-only argument: 'name'"
     ]
    }
   ],
   "source": [
    "def abc(*numbers , name):\n",
    "    print(name)\n",
    "    print(sum(numbers))\n",
    "\n",
    "abc(2,3,4,5,'zaid')"
   ]
  },
  {
   "cell_type": "code",
   "execution_count": 14,
   "metadata": {},
   "outputs": [
    {
     "name": "stdout",
     "output_type": "stream",
     "text": [
      "zaid\n",
      "14\n"
     ]
    }
   ],
   "source": [
    "def abc(*numbers , name):\n",
    "    print(name)\n",
    "    print(sum(numbers))\n",
    "\n",
    "abc(2,3,4,5, name = 'zaid')"
   ]
  },
  {
   "cell_type": "code",
   "execution_count": 20,
   "metadata": {},
   "outputs": [
    {
     "ename": "TypeError",
     "evalue": "abc() got an unexpected keyword argument 'numbers'",
     "output_type": "error",
     "traceback": [
      "\u001b[0;31m---------------------------------------------------------------------------\u001b[0m",
      "\u001b[0;31mTypeError\u001b[0m                                 Traceback (most recent call last)",
      "\u001b[0;32m<ipython-input-20-c1955ae05780>\u001b[0m in \u001b[0;36m<module>\u001b[0;34m\u001b[0m\n\u001b[1;32m      5\u001b[0m     \u001b[0mprint\u001b[0m\u001b[0;34m(\u001b[0m\u001b[0mxyz\u001b[0m\u001b[0;34m)\u001b[0m\u001b[0;34m\u001b[0m\u001b[0;34m\u001b[0m\u001b[0m\n\u001b[1;32m      6\u001b[0m \u001b[0;34m\u001b[0m\u001b[0m\n\u001b[0;32m----> 7\u001b[0;31m \u001b[0mabc\u001b[0m\u001b[0;34m(\u001b[0m\u001b[0mnumbers\u001b[0m\u001b[0;34m=\u001b[0m\u001b[0;34m[\u001b[0m\u001b[0;36m2\u001b[0m\u001b[0;34m,\u001b[0m\u001b[0;36m3\u001b[0m\u001b[0;34m,\u001b[0m\u001b[0;36m4\u001b[0m\u001b[0;34m,\u001b[0m\u001b[0;36m5\u001b[0m\u001b[0;34m]\u001b[0m\u001b[0;34m,\u001b[0m \u001b[0mxyz\u001b[0m\u001b[0;34m=\u001b[0m\u001b[0;34m'sdfnsdjk'\u001b[0m\u001b[0;34m,\u001b[0m \u001b[0mname\u001b[0m\u001b[0;34m=\u001b[0m\u001b[0;34m'zaid'\u001b[0m\u001b[0;34m)\u001b[0m\u001b[0;34m\u001b[0m\u001b[0;34m\u001b[0m\u001b[0m\n\u001b[0m",
      "\u001b[0;31mTypeError\u001b[0m: abc() got an unexpected keyword argument 'numbers'"
     ]
    }
   ],
   "source": [
    "def abc(xyz , *numbers , name):\n",
    "    print(name)\n",
    "    print(numbers)\n",
    "    print(sum(numbers))\n",
    "    print(xyz)\n",
    "\n",
    "abc(numbers=[2,3,4,5], xyz='sdfnsdjk', name='zaid')"
   ]
  },
  {
   "cell_type": "code",
   "execution_count": 21,
   "metadata": {},
   "outputs": [
    {
     "ename": "TypeError",
     "evalue": "abc() got an unexpected keyword argument 'number'",
     "output_type": "error",
     "traceback": [
      "\u001b[0;31m---------------------------------------------------------------------------\u001b[0m",
      "\u001b[0;31mTypeError\u001b[0m                                 Traceback (most recent call last)",
      "\u001b[0;32m<ipython-input-21-21b47ca4feb1>\u001b[0m in \u001b[0;36m<module>\u001b[0;34m\u001b[0m\n\u001b[1;32m      4\u001b[0m    \u001b[0mprint\u001b[0m\u001b[0;34m(\u001b[0m\u001b[0msum\u001b[0m\u001b[0;34m(\u001b[0m\u001b[0mnumber\u001b[0m\u001b[0;34m)\u001b[0m\u001b[0;34m)\u001b[0m\u001b[0;34m\u001b[0m\u001b[0;34m\u001b[0m\u001b[0m\n\u001b[1;32m      5\u001b[0m \u001b[0;34m\u001b[0m\u001b[0m\n\u001b[0;32m----> 6\u001b[0;31m \u001b[0mabc\u001b[0m\u001b[0;34m(\u001b[0m\u001b[0mnumber\u001b[0m\u001b[0;34m=\u001b[0m\u001b[0;34m[\u001b[0m\u001b[0;36m5\u001b[0m\u001b[0;34m,\u001b[0m\u001b[0;36m4\u001b[0m\u001b[0;34m,\u001b[0m\u001b[0;36m6\u001b[0m\u001b[0;34m,\u001b[0m\u001b[0;36m2\u001b[0m\u001b[0;34m]\u001b[0m\u001b[0;34m,\u001b[0m \u001b[0mname\u001b[0m\u001b[0;34m=\u001b[0m\u001b[0;34m'Qasim'\u001b[0m\u001b[0;34m,\u001b[0m \u001b[0mabc\u001b[0m\u001b[0;34m=\u001b[0m\u001b[0;34m'aaa'\u001b[0m\u001b[0;34m)\u001b[0m\u001b[0;34m\u001b[0m\u001b[0;34m\u001b[0m\u001b[0m\n\u001b[0m",
      "\u001b[0;31mTypeError\u001b[0m: abc() got an unexpected keyword argument 'number'"
     ]
    }
   ],
   "source": [
    " def abc(abc, *number, name):\n",
    "    print(name)\n",
    "    print(number)\n",
    "    print(sum(number))\n",
    "    \n",
    "abc(number=[5,4,6,2], name='Qasim', abc='aaa')"
   ]
  },
  {
   "cell_type": "code",
   "execution_count": 22,
   "metadata": {},
   "outputs": [
    {
     "name": "stdout",
     "output_type": "stream",
     "text": [
      "zaid\n",
      "{'a': 'abc', 'b': 'xyz', 'c': 'njh'}\n"
     ]
    }
   ],
   "source": [
    "def abc(name, **data):\n",
    "    print(name)\n",
    "    print(data)\n",
    "    \n",
    "abc('zaid', a=\"abc\", b=\"xyz\", c=\"njh\")"
   ]
  },
  {
   "cell_type": "code",
   "execution_count": 26,
   "metadata": {},
   "outputs": [
    {
     "name": "stdout",
     "output_type": "stream",
     "text": [
      "5\n",
      "4\n",
      "3\n",
      "2\n",
      "1\n"
     ]
    },
    {
     "data": {
      "text/plain": [
       "120"
      ]
     },
     "execution_count": 26,
     "metadata": {},
     "output_type": "execute_result"
    }
   ],
   "source": [
    "def abc(n):                  #RECURSIVE FUNCTION\n",
    "    if n==1:\n",
    "        print(n)\n",
    "        return 1\n",
    "    print(n)\n",
    "    return n*abc(n-1)\n",
    "\n",
    "abc(5)"
   ]
  },
  {
   "cell_type": "code",
   "execution_count": 32,
   "metadata": {},
   "outputs": [
    {
     "name": "stdout",
     "output_type": "stream",
     "text": [
      "5\n",
      "4\n",
      "3\n",
      "2\n",
      "1\n"
     ]
    },
    {
     "data": {
      "text/plain": [
       "15"
      ]
     },
     "execution_count": 32,
     "metadata": {},
     "output_type": "execute_result"
    }
   ],
   "source": [
    "def abc(n):\n",
    "    if n==1:\n",
    "        print(n)\n",
    "        return 1\n",
    "    print(n)\n",
    "    return n + abc(n-1)\n",
    "\n",
    "abc(5)"
   ]
  },
  {
   "cell_type": "code",
   "execution_count": 33,
   "metadata": {},
   "outputs": [
    {
     "name": "stdout",
     "output_type": "stream",
     "text": [
      "1\n",
      "2\n",
      "3\n",
      "4\n",
      "5\n",
      "6\n",
      "7\n",
      "8\n",
      "9\n",
      "10\n"
     ]
    }
   ],
   "source": [
    "def my_range(n):\n",
    "    for i in range(1,n+1):\n",
    "        print(i)\n",
    "        \n",
    "my_range(10)"
   ]
  },
  {
   "cell_type": "code",
   "execution_count": 35,
   "metadata": {},
   "outputs": [
    {
     "name": "stdout",
     "output_type": "stream",
     "text": [
      "1\n",
      "2\n",
      "3\n",
      "4\n"
     ]
    }
   ],
   "source": [
    "def my_range(n):#GENERATOR FUNCTION\n",
    "    for i in range(1,n+1):\n",
    "        yield i\n",
    "\n",
    "a = my_range(10)\n",
    "\n",
    "print(next(a))\n",
    "print(next(a))\n",
    "print(next(a))\n",
    "print(next(a))"
   ]
  },
  {
   "cell_type": "code",
   "execution_count": 36,
   "metadata": {},
   "outputs": [
    {
     "data": {
      "text/plain": [
       "[5, 6, 7, 8, 9, 10]"
      ]
     },
     "execution_count": 36,
     "metadata": {},
     "output_type": "execute_result"
    }
   ],
   "source": [
    "list(a)"
   ]
  },
  {
   "cell_type": "code",
   "execution_count": 39,
   "metadata": {},
   "outputs": [
    {
     "name": "stdout",
     "output_type": "stream",
     "text": [
      "105\n",
      "210\n",
      "315\n"
     ]
    }
   ],
   "source": [
    "def my_range(n):#GENERATOR FUNCTION\n",
    "    for i in range(1,n+1):\n",
    "        if(i%5==0 and i%7==0 and i%15==0):\n",
    "            yield i\n",
    "    \n",
    "a = my_range(1000)\n",
    "print(next(a))\n",
    "print(next(a))\n",
    "print(next(a))"
   ]
  },
  {
   "cell_type": "code",
   "execution_count": 40,
   "metadata": {},
   "outputs": [
    {
     "data": {
      "text/plain": [
       "[420, 525, 630, 735, 840, 945]"
      ]
     },
     "execution_count": 40,
     "metadata": {},
     "output_type": "execute_result"
    }
   ],
   "source": [
    "list(a)"
   ]
  },
  {
   "cell_type": "code",
   "execution_count": 42,
   "metadata": {},
   "outputs": [
    {
     "data": {
      "text/plain": [
       "15"
      ]
     },
     "execution_count": 42,
     "metadata": {},
     "output_type": "execute_result"
    }
   ],
   "source": [
    "abc = lambda x,y,z : x+y+z    #LAMDBA FUNCTION\n",
    "\n",
    "abc(3,5,7)"
   ]
  },
  {
   "cell_type": "code",
   "execution_count": null,
   "metadata": {},
   "outputs": [],
   "source": []
  }
 ],
 "metadata": {
  "kernelspec": {
   "display_name": "Python 3",
   "language": "python",
   "name": "python3"
  },
  "language_info": {
   "codemirror_mode": {
    "name": "ipython",
    "version": 3
   },
   "file_extension": ".py",
   "mimetype": "text/x-python",
   "name": "python",
   "nbconvert_exporter": "python",
   "pygments_lexer": "ipython3",
   "version": "3.8.5"
  }
 },
 "nbformat": 4,
 "nbformat_minor": 4
}
