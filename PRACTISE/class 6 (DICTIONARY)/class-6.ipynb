{
 "cells": [
  {
   "cell_type": "code",
   "execution_count": 3,
   "metadata": {},
   "outputs": [
    {
     "name": "stdout",
     "output_type": "stream",
     "text": [
      "Enter your name: Ali\n",
      "Enter your password: 1454545453!!\n",
      "valid user!\n"
     ]
    }
   ],
   "source": [
    "#TASK\n",
    "users = [[1,'Qasim','1545454523!!'],\n",
    "        [2,'Ali','1454545453!!'],\n",
    "       [3,'Ahmed','14578787873!!'],\n",
    "       [4,'Aslam,','1979797987878!!']]\n",
    "\n",
    "name = input(\"Enter your name: \")\n",
    "password = input(\"Enter your password: \")\n",
    "\n",
    "for user in users:\n",
    "    if(user[1] == name and user[2] == password):\n",
    "        print(\"valid user!\")\n",
    "        break\n",
    "else:\n",
    "    print(\"invalid user!\")\n",
    "    "
   ]
  },
  {
   "cell_type": "code",
   "execution_count": 6,
   "metadata": {},
   "outputs": [
    {
     "name": "stdout",
     "output_type": "stream",
     "text": [
      "{'name': 'zaid', 'Age': 20, 'course': 'AI'}\n"
     ]
    }
   ],
   "source": [
    " d1 = {\n",
    "     \"name\" : \"zaid\",\n",
    "     \"Age\" : 20,\n",
    "     \"course\" : \"AI\"\n",
    " }\n",
    "print(d1)"
   ]
  },
  {
   "cell_type": "code",
   "execution_count": 9,
   "metadata": {},
   "outputs": [
    {
     "name": "stdout",
     "output_type": "stream",
     "text": [
      "{'name': 'zaid', 'age': 20, 'course': 'AI'}\n"
     ]
    }
   ],
   "source": [
    "d1 = {}\n",
    "d1[\"name\"] = \"zaid\"\n",
    "d1[\"age\"] = 20\n",
    "d1[\"course\"] = \"AI\"\n",
    "print(d1)"
   ]
  },
  {
   "cell_type": "code",
   "execution_count": 11,
   "metadata": {},
   "outputs": [
    {
     "name": "stdout",
     "output_type": "stream",
     "text": [
      "{'name': 'zaid', 'age': 20, 'course': 'AI'}\n",
      "{}\n"
     ]
    }
   ],
   "source": [
    "print(d1)\n",
    "d1.clear() # In memory operation\n",
    "print(d1)"
   ]
  },
  {
   "cell_type": "code",
   "execution_count": 13,
   "metadata": {},
   "outputs": [
    {
     "name": "stdout",
     "output_type": "stream",
     "text": [
      "{'id': 200, 'name': 'Qasim', 'course': 'A.I'}\n"
     ]
    },
    {
     "ename": "NameError",
     "evalue": "name 'd1' is not defined",
     "output_type": "error",
     "traceback": [
      "\u001b[0;31m---------------------------------------------------------------------------\u001b[0m",
      "\u001b[0;31mNameError\u001b[0m                                 Traceback (most recent call last)",
      "\u001b[0;32m<ipython-input-13-137c13f3293e>\u001b[0m in \u001b[0;36m<module>\u001b[0;34m\u001b[0m\n\u001b[1;32m      2\u001b[0m \u001b[0mprint\u001b[0m\u001b[0;34m(\u001b[0m\u001b[0md1\u001b[0m\u001b[0;34m)\u001b[0m\u001b[0;34m\u001b[0m\u001b[0;34m\u001b[0m\u001b[0m\n\u001b[1;32m      3\u001b[0m \u001b[0;32mdel\u001b[0m \u001b[0md1\u001b[0m\u001b[0;34m\u001b[0m\u001b[0;34m\u001b[0m\u001b[0m\n\u001b[0;32m----> 4\u001b[0;31m \u001b[0mprint\u001b[0m\u001b[0;34m(\u001b[0m\u001b[0md1\u001b[0m\u001b[0;34m)\u001b[0m\u001b[0;34m\u001b[0m\u001b[0;34m\u001b[0m\u001b[0m\n\u001b[0m",
      "\u001b[0;31mNameError\u001b[0m: name 'd1' is not defined"
     ]
    }
   ],
   "source": [
    "d1 = {'id': 200, 'name': 'Qasim', 'course': 'A.I'}\n",
    "print(d1)\n",
    "del d1\n",
    "print(d1)"
   ]
  },
  {
   "cell_type": "code",
   "execution_count": 21,
   "metadata": {},
   "outputs": [
    {
     "name": "stdout",
     "output_type": "stream",
     "text": [
      "dictionary:  {'name': 'zaid', 'age': 20, 'course': 'AI'}\n",
      "dictionary:  140337990301888\n",
      "dictionary:  {'name': 'zaid', 'age': 20, 'course': 'AI'}\n",
      "dictionary:  140337990244288\n",
      "{'name': 'zaid', 'age': 24, 'course': 'AI'}\n",
      "{'name': 'zaid', 'age': 20, 'course': 'AI'}\n"
     ]
    }
   ],
   "source": [
    "d1 = {\"name\":\"zaid\", \"age\":20, \"course\":\"AI\"}\n",
    "print(\"dictionary: \",d1)\n",
    "print(\"dictionary: \",id(d1))\n",
    "d2 = d1.copy() #deep copy\n",
    "print(\"dictionary: \",d2)\n",
    "print(\"dictionary: \",id(d2))\n",
    "d1[\"age\"] = 24\n",
    "print(d1)\n",
    "print(d2)"
   ]
  },
  {
   "cell_type": "code",
   "execution_count": 30,
   "metadata": {},
   "outputs": [
    {
     "name": "stdout",
     "output_type": "stream",
     "text": [
      "{'name': None, 'age': None, 'course': None}\n"
     ]
    }
   ],
   "source": [
    "l1 = ['name', 'age', 'course']\n",
    "d3 = dict.fromkeys(l1)\n",
    "print(d3)"
   ]
  },
  {
   "cell_type": "code",
   "execution_count": 35,
   "metadata": {},
   "outputs": [
    {
     "name": "stdout",
     "output_type": "stream",
     "text": [
      "enter fields :name,age,id,course\n",
      "{'name': None, 'age': None, 'id': None, 'course': None}\n"
     ]
    }
   ],
   "source": [
    "fields = input(\"enter fields :\").split(\",\")#list\n",
    "d1 = dict.fromkeys(fields)\n",
    "print(d1)"
   ]
  },
  {
   "cell_type": "code",
   "execution_count": 38,
   "metadata": {},
   "outputs": [
    {
     "name": "stdout",
     "output_type": "stream",
     "text": [
      "{'name': None, 'age': None, 'id': None, 'course': None}\n"
     ]
    }
   ],
   "source": [
    "fields = ('name','age','id','course')#tuple\n",
    "d1 = dict.fromkeys(fields)\n",
    "print(d1)"
   ]
  },
  {
   "cell_type": "code",
   "execution_count": 40,
   "metadata": {},
   "outputs": [
    {
     "name": "stdout",
     "output_type": "stream",
     "text": [
      "<zip object at 0x7fa2f460c700>\n",
      "{'a': 'H', 'b': 'I', 'c': 'J'}\n"
     ]
    }
   ],
   "source": [
    "x = [\"a\", \"b\", \"c\"]\n",
    "y = [\"H\", \"I\", \"J\"]\n",
    "\n",
    "databse = zip(x,y)\n",
    "print(databse)\n",
    "d1 = dict(databse)\n",
    "print(d1)"
   ]
  },
  {
   "cell_type": "code",
   "execution_count": 59,
   "metadata": {},
   "outputs": [
    {
     "name": "stdout",
     "output_type": "stream",
     "text": [
      "[('a', 'H'), ('b', 'I'), ('c', 'J')]\n"
     ]
    }
   ],
   "source": [
    "x = (\"a\", \"b\", \"c\")\n",
    "y = (\"H\", \"I\", \"J\")\n",
    "\n",
    "databse = zip(x,y)\n",
    "print(list(databse))\n"
   ]
  },
  {
   "cell_type": "code",
   "execution_count": 54,
   "metadata": {},
   "outputs": [
    {
     "data": {
      "text/plain": [
       "{'a': 'H', 'b': 'I', 'c': 'J'}"
      ]
     },
     "execution_count": 54,
     "metadata": {},
     "output_type": "execute_result"
    }
   ],
   "source": [
    "dict(databse)"
   ]
  },
  {
   "cell_type": "code",
   "execution_count": 55,
   "metadata": {},
   "outputs": [
    {
     "name": "stdout",
     "output_type": "stream",
     "text": [
      "Enter keys: name,age,id,course\n",
      "Enter values: zaid,20,45342,AI\n",
      "{'name': 'zaid', 'age': '20', 'id': '45342', 'course': 'AI'}\n"
     ]
    }
   ],
   "source": [
    "keys = input(\"Enter keys: \").split(\",\")\n",
    "values = input(\"Enter values: \").split(\",\")\n",
    "\n",
    "d1 = zip(keys,values)\n",
    "d = dict(d1)\n",
    "print(d)"
   ]
  },
  {
   "cell_type": "code",
   "execution_count": 61,
   "metadata": {},
   "outputs": [
    {
     "name": "stdout",
     "output_type": "stream",
     "text": [
      "Enter keys: name,age,course\n",
      "enter values: zaid,20,ai\n",
      "{'name': 'zaid', 'age': '20', 'course': 'ai'}\n"
     ]
    }
   ],
   "source": [
    "d2 = {}\n",
    "\n",
    "key = input(\"Enter keys: \").split(',')\n",
    "values = input(\"enter values: \").split(',')\n",
    "\n",
    "ind = 0\n",
    "\n",
    "for element in key:\n",
    "    d2[element] = values[ind]\n",
    "    ind += 1\n",
    "    \n",
    "print(d2)"
   ]
  },
  {
   "cell_type": "code",
   "execution_count": 63,
   "metadata": {},
   "outputs": [
    {
     "name": "stdout",
     "output_type": "stream",
     "text": [
      "Enter keys: name,age,id\n",
      "enter values: zaid,20,3482\n",
      "{'name': 'zaid', 'age': '20', 'id': '3482'}\n"
     ]
    }
   ],
   "source": [
    "d2 = {}\n",
    "\n",
    "key = input(\"Enter keys: \").split(',')\n",
    "values = input(\"enter values: \").split(',')\n",
    "\n",
    "d1 = dict.fromkeys(key)\n",
    "\n",
    "ind = 0\n",
    "\n",
    "for element in d1:\n",
    "    d2[element] = values[ind]\n",
    "    ind += 1\n",
    "    \n",
    "print(d2)"
   ]
  },
  {
   "cell_type": "code",
   "execution_count": 66,
   "metadata": {},
   "outputs": [
    {
     "name": "stdout",
     "output_type": "stream",
     "text": [
      "Enter name: zaid raza\n",
      "age: 22\n",
      "skills: pyton,react,c,c++,javscript\n",
      "{'name': 'zaid raza', 'age': '22', 'skills': ['pyton', 'react', 'c', 'c++', 'javscript']}\n"
     ]
    }
   ],
   "source": [
    "d1 = {\n",
    "    'name': input(\"Enter name: \"),\n",
    "    'age': input(\"age: \"),\n",
    "    'skills': input(\"skills: \").split(\",\")\n",
    "}\n",
    "print(d1)"
   ]
  },
  {
   "cell_type": "code",
   "execution_count": 75,
   "metadata": {},
   "outputs": [
    {
     "data": {
      "text/plain": [
       "'zaid raza'"
      ]
     },
     "execution_count": 75,
     "metadata": {},
     "output_type": "execute_result"
    }
   ],
   "source": [
    "d1 = {'name': 'zaid raza', 'age': '22', 'skills': ['python', 'react', 'c', 'c++', 'javscript']}\n",
    "\n",
    "d1['name']\n"
   ]
  },
  {
   "cell_type": "code",
   "execution_count": 76,
   "metadata": {},
   "outputs": [
    {
     "data": {
      "text/plain": [
       "'zaid raza'"
      ]
     },
     "execution_count": 76,
     "metadata": {},
     "output_type": "execute_result"
    }
   ],
   "source": [
    "d1 = {'name': 'zaid raza', 'age': '22', 'skills': ['python', 'react', 'c', 'c++', 'javscript']}\n",
    "d1.get('name')"
   ]
  },
  {
   "cell_type": "code",
   "execution_count": 77,
   "metadata": {},
   "outputs": [
    {
     "name": "stdout",
     "output_type": "stream",
     "text": [
      "455930283\n",
      "{'id': '200', 'name': 'Ali', 'CNIC': '455930283', 'skills': ['a', 'b', 'c', 'd']}\n"
     ]
    }
   ],
   "source": [
    "d1 ={'id': '200', 'name': 'Ali', 'skills': ['a', 'b', 'c', 'd']}\n",
    "print(d1.get('CNIC',\"Not available\"))\n",
    "print(d1)"
   ]
  },
  {
   "cell_type": "code",
   "execution_count": 78,
   "metadata": {},
   "outputs": [
    {
     "name": "stdout",
     "output_type": "stream",
     "text": [
      "Not available\n",
      "{'id': '200', 'name': 'Ali', 'skills': ['a', 'b', 'c', 'd']}\n"
     ]
    }
   ],
   "source": [
    "d1 ={'id': '200', 'name': 'Ali', 'skills': ['a', 'b', 'c', 'd']}\n",
    "print(d1.get('CNIC',\"Not available\"))\n",
    "print(d1)"
   ]
  },
  {
   "cell_type": "code",
   "execution_count": 80,
   "metadata": {},
   "outputs": [
    {
     "name": "stdout",
     "output_type": "stream",
     "text": [
      "dict_items([('id', '200'), ('name', 'Ali'), ('CNIC', '455930283'), ('skills', ['a', 'b', 'c', 'd'])])\n",
      "dict_keys(['id', 'name', 'CNIC', 'skills'])\n",
      "dict_values(['200', 'Ali', '455930283', ['a', 'b', 'c', 'd']])\n"
     ]
    }
   ],
   "source": [
    "dct = {'id': '200', 'name': 'Ali', 'CNIC': '455930283', 'skills': ['a', 'b', 'c', 'd']}\n",
    "print(dct.items())\n",
    "print(dct.keys())\n",
    "print(dct.values())"
   ]
  },
  {
   "cell_type": "code",
   "execution_count": 83,
   "metadata": {},
   "outputs": [
    {
     "name": "stdout",
     "output_type": "stream",
     "text": [
      "[('id', '200'), ('name', 'Ali'), ('CNIC', '455930283'), ('skills', ['a', 'b', 'c', 'd'])]\n",
      "['id', 'name', 'CNIC', 'skills']\n",
      "['200', 'Ali', '455930283', ['a', 'b', 'c', 'd']]\n"
     ]
    }
   ],
   "source": [
    "dct = {'id': '200', 'name': 'Ali', 'CNIC': '455930283', 'skills': ['a', 'b', 'c', 'd']}\n",
    "print(list(dct.items()))\n",
    "print(list(dct.keys()))\n",
    "print(list(dct.values()))"
   ]
  },
  {
   "cell_type": "code",
   "execution_count": 3,
   "metadata": {},
   "outputs": [
    {
     "name": "stdout",
     "output_type": "stream",
     "text": [
      "200\n",
      "{'name': 'Ali', 'CNIC': '455930283', 'skills': ['a', 'b', 'c', 'd']}\n"
     ]
    }
   ],
   "source": [
    "dct = {'id': '200', 'name': 'Ali', 'CNIC': '455930283', 'skills': ['a', 'b', 'c', 'd']}\n",
    "print(dct.pop('id'))\n",
    "print(dct)"
   ]
  },
  {
   "cell_type": "code",
   "execution_count": 4,
   "metadata": {},
   "outputs": [
    {
     "ename": "TypeError",
     "evalue": "popitem() takes no arguments (1 given)",
     "output_type": "error",
     "traceback": [
      "\u001b[0;31m---------------------------------------------------------------------------\u001b[0m",
      "\u001b[0;31mTypeError\u001b[0m                                 Traceback (most recent call last)",
      "\u001b[0;32m<ipython-input-4-8e28fa81b542>\u001b[0m in \u001b[0;36m<module>\u001b[0;34m\u001b[0m\n\u001b[1;32m      1\u001b[0m \u001b[0mdct\u001b[0m \u001b[0;34m=\u001b[0m \u001b[0;34m{\u001b[0m\u001b[0;34m'id'\u001b[0m\u001b[0;34m:\u001b[0m \u001b[0;34m'200'\u001b[0m\u001b[0;34m,\u001b[0m \u001b[0;34m'name'\u001b[0m\u001b[0;34m:\u001b[0m \u001b[0;34m'Ali'\u001b[0m\u001b[0;34m,\u001b[0m \u001b[0;34m'CNIC'\u001b[0m\u001b[0;34m:\u001b[0m \u001b[0;34m'455930283'\u001b[0m\u001b[0;34m,\u001b[0m \u001b[0;34m'skills'\u001b[0m\u001b[0;34m:\u001b[0m \u001b[0;34m[\u001b[0m\u001b[0;34m'a'\u001b[0m\u001b[0;34m,\u001b[0m \u001b[0;34m'b'\u001b[0m\u001b[0;34m,\u001b[0m \u001b[0;34m'c'\u001b[0m\u001b[0;34m,\u001b[0m \u001b[0;34m'd'\u001b[0m\u001b[0;34m]\u001b[0m\u001b[0;34m}\u001b[0m\u001b[0;34m\u001b[0m\u001b[0;34m\u001b[0m\u001b[0m\n\u001b[0;32m----> 2\u001b[0;31m \u001b[0mprint\u001b[0m\u001b[0;34m(\u001b[0m\u001b[0mdct\u001b[0m\u001b[0;34m.\u001b[0m\u001b[0mpopitem\u001b[0m\u001b[0;34m(\u001b[0m\u001b[0;34m'id'\u001b[0m\u001b[0;34m)\u001b[0m\u001b[0;34m)\u001b[0m\u001b[0;34m\u001b[0m\u001b[0;34m\u001b[0m\u001b[0m\n\u001b[0m\u001b[1;32m      3\u001b[0m \u001b[0mprint\u001b[0m\u001b[0;34m(\u001b[0m\u001b[0mdct\u001b[0m\u001b[0;34m)\u001b[0m\u001b[0;34m\u001b[0m\u001b[0;34m\u001b[0m\u001b[0m\n",
      "\u001b[0;31mTypeError\u001b[0m: popitem() takes no arguments (1 given)"
     ]
    }
   ],
   "source": [
    "dct = {'id': '200', 'name': 'Ali', 'CNIC': '455930283', 'skills': ['a', 'b', 'c', 'd']}\n",
    "print(dct.popitem('id'))\n",
    "print(dct)"
   ]
  },
  {
   "cell_type": "code",
   "execution_count": 5,
   "metadata": {},
   "outputs": [
    {
     "name": "stdout",
     "output_type": "stream",
     "text": [
      "('skills', ['a', 'b', 'c', 'd'])\n",
      "{'id': '200', 'name': 'Ali', 'CNIC': '455930283'}\n"
     ]
    }
   ],
   "source": [
    "dct = {'id': '200', 'name': 'Ali', 'CNIC': '455930283', 'skills': ['a', 'b', 'c', 'd']}\n",
    "print(dct.popitem())\n",
    "print(dct)"
   ]
  },
  {
   "cell_type": "code",
   "execution_count": 6,
   "metadata": {},
   "outputs": [
    {
     "name": "stdout",
     "output_type": "stream",
     "text": [
      "{'id': '200', 'name': 'Ali', 'CNIC': '455930283', 'skills': ['a', 'b', 'c', 'd']}\n",
      "200\n",
      "2017\n",
      "{'id': '200', 'name': 'Ali', 'CNIC': '455930283', 'skills': ['a', 'b', 'c', 'd'], 'class': '2017'}\n"
     ]
    }
   ],
   "source": [
    "dct = {'id': '200', 'name': 'Ali', 'CNIC': '455930283', 'skills': ['a', 'b', 'c', 'd']}\n",
    "print(dct)\n",
    "print(dct.setdefault('id','10'))\n",
    "print(dct.setdefault('class','2017'))\n",
    "print(dct)"
   ]
  },
  {
   "cell_type": "code",
   "execution_count": 7,
   "metadata": {},
   "outputs": [
    {
     "name": "stdout",
     "output_type": "stream",
     "text": [
      "{'a': '1025', 'b': '200', 'c': '100', 'x': '3232'}\n",
      "{'x': '3232', 'b': '200', 'a': '1025'}\n"
     ]
    }
   ],
   "source": [
    "d1 = {'a':'1' , 'b':'2' , 'c':'100'}\n",
    "d2 = {'x':'3232' , 'b':'200' , 'a':'1025'}\n",
    "\n",
    "d1.update(d2)\n",
    "print(d1)\n",
    "print(d2)"
   ]
  },
  {
   "cell_type": "code",
   "execution_count": 12,
   "metadata": {},
   "outputs": [
    {
     "name": "stdout",
     "output_type": "stream",
     "text": [
      "['a', 'b', 'c', 'd']\n"
     ]
    }
   ],
   "source": [
    "d1 = {\n",
    "    'a':200,\n",
    "    'c':300,\n",
    "    'b':600,\n",
    "    'd':400\n",
    "}\n",
    "d2={}\n",
    "print(sorted(d1.keys()))"
   ]
  },
  {
   "cell_type": "code",
   "execution_count": 15,
   "metadata": {},
   "outputs": [
    {
     "name": "stdout",
     "output_type": "stream",
     "text": [
      "{'a': 200, 'b': 600, 'c': 300, 'd': 400}\n"
     ]
    }
   ],
   "source": [
    "d1 = {\n",
    "    'a':200,\n",
    "    'c':300,\n",
    "    'b':600,\n",
    "    'd':400\n",
    "}\n",
    "d2={}\n",
    "for i in sorted(d1.keys()):\n",
    "    d2[i] = d1[i]\n",
    "print(d2)"
   ]
  },
  {
   "cell_type": "code",
   "execution_count": 16,
   "metadata": {},
   "outputs": [
    {
     "name": "stdout",
     "output_type": "stream",
     "text": [
      "{'a': 200, 'c': 300, 'd': 400, 'b': 600}\n"
     ]
    }
   ],
   "source": [
    "moon = {}\n",
    "scores = {'a': 200, 'b': 600, 'c': 300, 'd': 400}\n",
    "\n",
    "for key,value in sorted(scores.items(),key = lambda kv:kv[1]):\n",
    "    moon[key] = value\n",
    "print(moon)"
   ]
  },
  {
   "cell_type": "code",
   "execution_count": 18,
   "metadata": {},
   "outputs": [
    {
     "name": "stdout",
     "output_type": "stream",
     "text": [
      "{'a': 200, 'b': 600, 'c': 300, 'd': 400}\n"
     ]
    }
   ],
   "source": [
    "moon = {}\n",
    "scores = {'a': 200, 'b': 600, 'c': 300, 'd': 400}\n",
    "\n",
    "for key,value in sorted(scores.items() , key = lambda kv:kv[0]):\n",
    "    moon[key] = value\n",
    "print(moon)"
   ]
  },
  {
   "cell_type": "code",
   "execution_count": 19,
   "metadata": {},
   "outputs": [
    {
     "name": "stdout",
     "output_type": "stream",
     "text": [
      "{'d': 400, 'c': 300, 'b': 600, 'a': 200}\n"
     ]
    }
   ],
   "source": [
    "moon = {}\n",
    "scores = {'a': 200, 'b': 600, 'c': 300, 'd': 400}\n",
    "\n",
    "for key,value in sorted(scores.items() , key = lambda kv:kv[0] , reverse = True):\n",
    "    moon[key] = value\n",
    "print(moon)"
   ]
  },
  {
   "cell_type": "code",
   "execution_count": 25,
   "metadata": {},
   "outputs": [
    {
     "name": "stdout",
     "output_type": "stream",
     "text": [
      "If you want to stop press 'N' or 'n'y\n",
      "ID: 213\n",
      "NAME: zaid\n",
      "If you want to stop press 'N' or 'n'y\n",
      "ID: 35\n",
      "NAME: raza\n",
      "If you want to stop press 'N' or 'n'n\n",
      "[{'id': '213', 'name': 'zaid'}, {'id': '35', 'name': 'raza'}]\n"
     ]
    }
   ],
   "source": [
    "l1 = []\n",
    "run = True\n",
    "while run:\n",
    "    choice = input(\"If you want to stop press 'N' or 'n'\")\n",
    "    if choice == \"N\" or choice =='n' :\n",
    "        run = False\n",
    "    else :\n",
    "        d1 = {\n",
    "            'id': input(\"ID: \"),\n",
    "            'name': input(\"NAME: \")\n",
    "        }\n",
    "        l1.append(d1)\n",
    "print(l1, sep='\\n')\n",
    "        "
   ]
  },
  {
   "cell_type": "code",
   "execution_count": null,
   "metadata": {},
   "outputs": [],
   "source": []
  }
 ],
 "metadata": {
  "kernelspec": {
   "display_name": "Python 3",
   "language": "python",
   "name": "python3"
  },
  "language_info": {
   "codemirror_mode": {
    "name": "ipython",
    "version": 3
   },
   "file_extension": ".py",
   "mimetype": "text/x-python",
   "name": "python",
   "nbconvert_exporter": "python",
   "pygments_lexer": "ipython3",
   "version": "3.8.5"
  }
 },
 "nbformat": 4,
 "nbformat_minor": 4
}
