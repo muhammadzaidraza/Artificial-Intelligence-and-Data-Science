{
 "cells": [
  {
   "cell_type": "code",
   "execution_count": 2,
   "metadata": {},
   "outputs": [
    {
     "data": {
      "text/plain": [
       "'zaid'"
      ]
     },
     "execution_count": 2,
     "metadata": {},
     "output_type": "execute_result"
    }
   ],
   "source": [
    "name = \"zaid\"\n",
    "name"
   ]
  },
  {
   "cell_type": "code",
   "execution_count": 5,
   "metadata": {},
   "outputs": [
    {
     "name": "stdout",
     "output_type": "stream",
     "text": [
      "A B C\n"
     ]
    }
   ],
   "source": [
    "name1 = \"A\"\n",
    "name2 = \"B\"\n",
    "name3 = \"C\"\n",
    "print(name1,name2,name3)"
   ]
  },
  {
   "cell_type": "code",
   "execution_count": 6,
   "metadata": {},
   "outputs": [],
   "source": [
    "names = [\"a\" , \"b\" , \"c\"]"
   ]
  },
  {
   "cell_type": "code",
   "execution_count": 7,
   "metadata": {},
   "outputs": [
    {
     "name": "stdout",
     "output_type": "stream",
     "text": [
      "<class 'str'>\n",
      "<class 'list'>\n"
     ]
    }
   ],
   "source": [
    "print(type(name1))\n",
    "print(type(names))"
   ]
  },
  {
   "cell_type": "code",
   "execution_count": 9,
   "metadata": {},
   "outputs": [
    {
     "name": "stdout",
     "output_type": "stream",
     "text": [
      "Pakistan\n",
      "None\n"
     ]
    }
   ],
   "source": [
    "a = print(\"Pakistan\") #non return function\n",
    "print(a) "
   ]
  },
  {
   "cell_type": "code",
   "execution_count": 16,
   "metadata": {},
   "outputs": [
    {
     "name": "stdout",
     "output_type": "stream",
     "text": [
      "17\n"
     ]
    }
   ],
   "source": [
    "message = \"Hello! zaid here.\"\n",
    "a = len(message)\n",
    "print(a)"
   ]
  },
  {
   "cell_type": "code",
   "execution_count": 24,
   "metadata": {},
   "outputs": [
    {
     "name": "stdout",
     "output_type": "stream",
     "text": [
      "['A', 'A', \"A'A'\"]\n"
     ]
    }
   ],
   "source": [
    "l1 = []\n",
    "l1.append(\"A\")\n",
    "l1.append(\"A\")\n",
    "l1.append(\"A'A'\")\n",
    "print(l1)"
   ]
  },
  {
   "cell_type": "code",
   "execution_count": 33,
   "metadata": {},
   "outputs": [],
   "source": [
    "\n",
    "b = l1.clear?\n"
   ]
  },
  {
   "cell_type": "code",
   "execution_count": null,
   "metadata": {},
   "outputs": [],
   "source": [
    "l1.clear"
   ]
  },
  {
   "cell_type": "code",
   "execution_count": 35,
   "metadata": {},
   "outputs": [
    {
     "data": {
      "text/plain": [
       "[]"
      ]
     },
     "execution_count": 35,
     "metadata": {},
     "output_type": "execute_result"
    }
   ],
   "source": [
    "l1"
   ]
  },
  {
   "cell_type": "code",
   "execution_count": 45,
   "metadata": {},
   "outputs": [
    {
     "name": "stdout",
     "output_type": "stream",
     "text": [
      "['A', 'B', 'C']\n"
     ]
    }
   ],
   "source": [
    "l1 = [\"A\" , \"B\" , \"C\"]\n",
    "print(l1)\n",
    "del l1 "
   ]
  },
  {
   "cell_type": "code",
   "execution_count": 39,
   "metadata": {},
   "outputs": [],
   "source": [
    "l1 = [\"A\" , \"B\" , \"C\"]\n",
    "del l1[1]"
   ]
  },
  {
   "cell_type": "code",
   "execution_count": 40,
   "metadata": {},
   "outputs": [
    {
     "data": {
      "text/plain": [
       "['A', 'C']"
      ]
     },
     "execution_count": 40,
     "metadata": {},
     "output_type": "execute_result"
    }
   ],
   "source": [
    "l1"
   ]
  },
  {
   "cell_type": "code",
   "execution_count": 41,
   "metadata": {},
   "outputs": [
    {
     "data": {
      "text/plain": [
       "'C'"
      ]
     },
     "execution_count": 41,
     "metadata": {},
     "output_type": "execute_result"
    }
   ],
   "source": [
    "l1[1]"
   ]
  },
  {
   "cell_type": "code",
   "execution_count": 43,
   "metadata": {},
   "outputs": [
    {
     "ename": "TypeError",
     "evalue": "'tuple' object doesn't support item deletion",
     "output_type": "error",
     "traceback": [
      "\u001b[0;31m---------------------------------------------------------------------------\u001b[0m",
      "\u001b[0;31mTypeError\u001b[0m                                 Traceback (most recent call last)",
      "\u001b[0;32m<ipython-input-43-f9d63a12e9a7>\u001b[0m in \u001b[0;36m<module>\u001b[0;34m\u001b[0m\n\u001b[1;32m      1\u001b[0m \u001b[0ml1\u001b[0m \u001b[0;34m=\u001b[0m \u001b[0;34m(\u001b[0m\u001b[0;34m\"A\"\u001b[0m \u001b[0;34m,\u001b[0m \u001b[0;34m\"B\"\u001b[0m \u001b[0;34m,\u001b[0m \u001b[0;34m\"C\"\u001b[0m\u001b[0;34m)\u001b[0m\u001b[0;34m\u001b[0m\u001b[0;34m\u001b[0m\u001b[0m\n\u001b[0;32m----> 2\u001b[0;31m \u001b[0;32mdel\u001b[0m \u001b[0ml1\u001b[0m\u001b[0;34m[\u001b[0m\u001b[0;36m1\u001b[0m\u001b[0;34m]\u001b[0m\u001b[0;34m\u001b[0m\u001b[0;34m\u001b[0m\u001b[0m\n\u001b[0m",
      "\u001b[0;31mTypeError\u001b[0m: 'tuple' object doesn't support item deletion"
     ]
    }
   ],
   "source": [
    "l1 = (\"A\" , \"B\" , \"C\")\n",
    "del l1[1]"
   ]
  },
  {
   "cell_type": "code",
   "execution_count": 46,
   "metadata": {},
   "outputs": [
    {
     "name": "stdout",
     "output_type": "stream",
     "text": [
      "[1, 2, 3, 4, 5, 6]\n",
      "[1, 2, 3, 4, 5, 6]\n",
      "[1, 2, 'A', 4, 5, 6]\n",
      "[1, 2, 'A', 4, 5, 6]\n"
     ]
    }
   ],
   "source": [
    "old_list = [1,2,3,4,5,6]\n",
    "new_list = old_list # shallow copy\n",
    "\n",
    "print(old_list)\n",
    "print(new_list)\n",
    "\n",
    "new_list[2] = \"A\"\n",
    "print(old_list)\n",
    "print(new_list)"
   ]
  },
  {
   "cell_type": "code",
   "execution_count": 47,
   "metadata": {},
   "outputs": [
    {
     "name": "stdout",
     "output_type": "stream",
     "text": [
      "[1, 2, 3, 4, 5, 6]\n",
      "[1, 2, 3, 4, 5, 6]\n",
      "[1, 2, 3, 4, 5, 6]\n",
      "[1, 2, 'A', 4, 5, 6]\n"
     ]
    }
   ],
   "source": [
    "old_list = [1,2,3,4,5,6]\n",
    "new_list = old_list.copy() # deepcopy\n",
    "\n",
    "print(old_list)\n",
    "print(new_list)\n",
    "\n",
    "new_list[2] = \"A\"\n",
    "print(old_list)\n",
    "print(new_list)"
   ]
  },
  {
   "cell_type": "code",
   "execution_count": 49,
   "metadata": {},
   "outputs": [
    {
     "name": "stdout",
     "output_type": "stream",
     "text": [
      "1\n"
     ]
    }
   ],
   "source": [
    "x = old_list.count(2)\n",
    "print(x)"
   ]
  },
  {
   "cell_type": "code",
   "execution_count": 50,
   "metadata": {},
   "outputs": [
    {
     "name": "stdout",
     "output_type": "stream",
     "text": [
      "['A', 'B', 'C', 'Z', 'X', 'E']\n",
      "['A', 'B', 'C'] ['Z', 'X', 'E']\n"
     ]
    }
   ],
   "source": [
    "l1 = ['A' , 'B' , 'C']\n",
    "l2 = ['Z' , 'X' , 'E']\n",
    "\n",
    "print(l1+l2) #inline operation\n",
    "print(l1,l2)"
   ]
  },
  {
   "cell_type": "code",
   "execution_count": 53,
   "metadata": {},
   "outputs": [
    {
     "name": "stdout",
     "output_type": "stream",
     "text": [
      "['A', 'B', 'C', 'Z', 'X', 'E']\n",
      "['A', 'B', 'C'] ['Z', 'X', 'E']\n"
     ]
    }
   ],
   "source": [
    "l1 = ['A' , 'B' , 'C']\n",
    "l2 = ['Z' , 'X' , 'E']\n",
    "print(l1.__add__(l2)) #inline operation\n",
    "print(l1,l2)"
   ]
  },
  {
   "cell_type": "code",
   "execution_count": 55,
   "metadata": {},
   "outputs": [
    {
     "name": "stdout",
     "output_type": "stream",
     "text": [
      "['A', 'B', 'C', 'Z', 'X', 'E']\n",
      "['Z', 'X', 'E']\n"
     ]
    }
   ],
   "source": [
    "l1 = ['A' , 'B' , 'C']\n",
    "l2 = ['Z' , 'X' , 'E']\n",
    "\n",
    "l1.extend(l2)  #In memory operation\n",
    "print(l1)\n",
    "print(l2)"
   ]
  },
  {
   "cell_type": "code",
   "execution_count": 1,
   "metadata": {},
   "outputs": [
    {
     "data": {
      "text/plain": [
       "6.0"
      ]
     },
     "execution_count": 1,
     "metadata": {},
     "output_type": "execute_result"
    }
   ],
   "source": [
    "5+(4-2)**2*3/6-1"
   ]
  },
  {
   "cell_type": "code",
   "execution_count": 2,
   "metadata": {},
   "outputs": [
    {
     "data": {
      "text/plain": [
       "16"
      ]
     },
     "execution_count": 2,
     "metadata": {},
     "output_type": "execute_result"
    }
   ],
   "source": [
    "6-8+18"
   ]
  },
  {
   "cell_type": "code",
   "execution_count": 3,
   "metadata": {},
   "outputs": [
    {
     "name": "stdout",
     "output_type": "stream",
     "text": [
      "['A', 'B', 'C', 'Y', 'X', 'Z']\n",
      "['A', 'B', 'C']\n",
      "['Y', 'X', 'Z']\n"
     ]
    }
   ],
   "source": [
    "l1 = ['A',\"B\",\"C\"]\n",
    "l2 = [\"Y\",\"X\",\"Z\"]\n",
    "\n",
    "print(l1+l2)\n",
    "print(l1)\n",
    "print(l2)"
   ]
  },
  {
   "cell_type": "code",
   "execution_count": 31,
   "metadata": {},
   "outputs": [
    {
     "name": "stdout",
     "output_type": "stream",
     "text": [
      "0\n",
      "3\n",
      "6\n"
     ]
    }
   ],
   "source": [
    "l1 = [\"A\", \"B\", \"C\", \"A\", \"B\", \"C\", \"A\", \"B\", \"C\",]\n",
    "print(l1.index('A'))\n",
    "print(l1.index('A',2))\n",
    "print(l1.index('A',4))"
   ]
  },
  {
   "cell_type": "code",
   "execution_count": 32,
   "metadata": {},
   "outputs": [
    {
     "name": "stdout",
     "output_type": "stream",
     "text": [
      "C\n"
     ]
    }
   ],
   "source": [
    "l1 = [\"A\", \"B\", \"C\", \"A\", \"B\", \"C\", \"A\", \"B\", \"C\",]\n",
    "print(l1[l1.index(\"C\")])"
   ]
  },
  {
   "cell_type": "code",
   "execution_count": 33,
   "metadata": {},
   "outputs": [
    {
     "name": "stdout",
     "output_type": "stream",
     "text": [
      "['A', 'A', 'A']\n"
     ]
    }
   ],
   "source": [
    "l1 = []\n",
    "l1.insert(0,\"A\")\n",
    "l1.insert(0,\"A\")\n",
    "l1.insert(0,\"A\")\n",
    "print(l1)"
   ]
  },
  {
   "cell_type": "code",
   "execution_count": 34,
   "metadata": {},
   "outputs": [
    {
     "name": "stdout",
     "output_type": "stream",
     "text": [
      "['C', 'B', 'A']\n"
     ]
    }
   ],
   "source": [
    "l1 = []\n",
    "l1.insert(0,\"A\")\n",
    "l1.insert(0,\"B\")\n",
    "l1.insert(0,\"C\")\n",
    "print(l1)"
   ]
  },
  {
   "cell_type": "code",
   "execution_count": 13,
   "metadata": {},
   "outputs": [
    {
     "name": "stdout",
     "output_type": "stream",
     "text": [
      "['A', 'B', 'C']\n"
     ]
    }
   ],
   "source": [
    "l1 = []\n",
    "l1.insert(0,\"A\")\n",
    "l1.insert(3,\"B\")\n",
    "l1.insert(5,\"C\")\n",
    "print(l1)"
   ]
  },
  {
   "cell_type": "code",
   "execution_count": 14,
   "metadata": {},
   "outputs": [
    {
     "data": {
      "text/plain": [
       "'C'"
      ]
     },
     "execution_count": 14,
     "metadata": {},
     "output_type": "execute_result"
    }
   ],
   "source": [
    "l1[2]"
   ]
  },
  {
   "cell_type": "code",
   "execution_count": 15,
   "metadata": {},
   "outputs": [
    {
     "data": {
      "text/plain": [
       "['A', 'B', 'C']"
      ]
     },
     "execution_count": 15,
     "metadata": {},
     "output_type": "execute_result"
    }
   ],
   "source": [
    "l1"
   ]
  },
  {
   "cell_type": "code",
   "execution_count": 16,
   "metadata": {},
   "outputs": [],
   "source": [
    "del l1[-1]\n",
    "del l1[0]"
   ]
  },
  {
   "cell_type": "code",
   "execution_count": 17,
   "metadata": {},
   "outputs": [
    {
     "data": {
      "text/plain": [
       "['B']"
      ]
     },
     "execution_count": 17,
     "metadata": {},
     "output_type": "execute_result"
    }
   ],
   "source": [
    "l1"
   ]
  },
  {
   "cell_type": "code",
   "execution_count": 19,
   "metadata": {},
   "outputs": [
    {
     "name": "stdout",
     "output_type": "stream",
     "text": [
      "['A', 'B']\n",
      "['E', 'D', 'C']\n"
     ]
    }
   ],
   "source": [
    "l1 = [\"A\", \"B\", \"C\" , \"D\", \"E\"]\n",
    "l2 = []\n",
    "\n",
    "a = l1.pop()\n",
    "l2.append(a)\n",
    "\n",
    "a = l1.pop()\n",
    "l2.append(a)\n",
    "\n",
    "a = l1.pop()\n",
    "l2.append(a)\n",
    "\n",
    "print(l1)\n",
    "print(l2)"
   ]
  },
  {
   "cell_type": "code",
   "execution_count": 20,
   "metadata": {},
   "outputs": [
    {
     "name": "stdout",
     "output_type": "stream",
     "text": [
      "['A', 'B']\n",
      "['C', 'D', 'E']\n"
     ]
    }
   ],
   "source": [
    "l1 = [\"A\", \"B\", \"C\" , \"D\", \"E\"]\n",
    "l2 = []\n",
    "\n",
    "a = l1.pop(2)\n",
    "l2.append(a)\n",
    "\n",
    "a = l1.pop(2)\n",
    "l2.append(a)\n",
    "\n",
    "a = l1.pop(2)\n",
    "l2.append(a)\n",
    "\n",
    "print(l1)\n",
    "print(l2)"
   ]
  },
  {
   "cell_type": "code",
   "execution_count": 24,
   "metadata": {},
   "outputs": [
    {
     "name": "stdout",
     "output_type": "stream",
     "text": [
      "['A', 'C', 'B', 'E']\n",
      "['A', 'C', 'E']\n"
     ]
    }
   ],
   "source": [
    "l1 = [\"A\", \"B\", \"C\" , \"B\", \"E\"]\n",
    "l1.remove(\"B\")\n",
    "print(l1)\n",
    "l1.remove(\"B\")\n",
    "print(l1)"
   ]
  },
  {
   "cell_type": "code",
   "execution_count": 26,
   "metadata": {},
   "outputs": [
    {
     "name": "stdout",
     "output_type": "stream",
     "text": [
      "['E', 'B', 'C', 'B', 'A']\n"
     ]
    }
   ],
   "source": [
    "l1 = [\"A\", \"B\", \"C\" , \"B\", \"E\"]\n",
    "l1.reverse()\n",
    "print(l1)"
   ]
  },
  {
   "cell_type": "code",
   "execution_count": 27,
   "metadata": {},
   "outputs": [
    {
     "name": "stdout",
     "output_type": "stream",
     "text": [
      "['A', 'B', 'C', 'X', 'Y', 'Z']\n"
     ]
    }
   ],
   "source": [
    "l1 = [\"A\",\"B\",\"X\",\"C\",\"Y\",\"Z\"]\n",
    "l1.sort()\n",
    "print(l1)"
   ]
  },
  {
   "cell_type": "code",
   "execution_count": 29,
   "metadata": {},
   "outputs": [
    {
     "name": "stdout",
     "output_type": "stream",
     "text": [
      "['A', 'B', 'C', 'X', 'Y', 'Z']\n"
     ]
    }
   ],
   "source": [
    "l1 = [\"A\",\"B\",\"X\",\"C\",\"Y\",\"Z\"]\n",
    "sorted_list = sorted(l1)\n",
    "print(sorted_list)"
   ]
  },
  {
   "cell_type": "code",
   "execution_count": 31,
   "metadata": {},
   "outputs": [
    {
     "name": "stdout",
     "output_type": "stream",
     "text": [
      "['Z', 'Y', 'X', 'C', 'B', 'A']\n"
     ]
    }
   ],
   "source": [
    "l1 = [\"A\",\"B\",\"X\",\"C\",\"Y\",\"Z\"]\n",
    "l1.sort(reverse=True)\n",
    "print(l1)"
   ]
  },
  {
   "cell_type": "code",
   "execution_count": 32,
   "metadata": {},
   "outputs": [
    {
     "name": "stdout",
     "output_type": "stream",
     "text": [
      "['Z', 'Y', 'X', 'C', 'B', 'A']\n"
     ]
    }
   ],
   "source": [
    "l1 = [\"A\",\"B\",\"X\",\"C\",\"Y\",\"Z\"]\n",
    "sorted_list = sorted(l1, reverse = True)\n",
    "print(sorted_list)"
   ]
  },
  {
   "cell_type": "code",
   "execution_count": 33,
   "metadata": {},
   "outputs": [
    {
     "data": {
      "text/plain": [
       "list"
      ]
     },
     "execution_count": 33,
     "metadata": {},
     "output_type": "execute_result"
    }
   ],
   "source": [
    "l1 = [\"A\",\"B\",\"X\",\"C\",\"Y\",\"Z\"]\n",
    "l1.__class__"
   ]
  },
  {
   "cell_type": "code",
   "execution_count": 34,
   "metadata": {},
   "outputs": [
    {
     "data": {
      "text/plain": [
       "True"
      ]
     },
     "execution_count": 34,
     "metadata": {},
     "output_type": "execute_result"
    }
   ],
   "source": [
    "l1.__contains__(\"B\")"
   ]
  },
  {
   "cell_type": "code",
   "execution_count": 37,
   "metadata": {},
   "outputs": [
    {
     "name": "stdout",
     "output_type": "stream",
     "text": [
      "['A', 'C', 'Y', 'Z']\n"
     ]
    }
   ],
   "source": [
    "l1.__delitem__(1)\n",
    "print(l1)"
   ]
  },
  {
   "cell_type": "code",
   "execution_count": 39,
   "metadata": {},
   "outputs": [
    {
     "data": {
      "text/plain": [
       "48"
      ]
     },
     "execution_count": 39,
     "metadata": {},
     "output_type": "execute_result"
    }
   ],
   "source": [
    "[\"B\"].__sizeof__()"
   ]
  },
  {
   "cell_type": "code",
   "execution_count": 40,
   "metadata": {},
   "outputs": [
    {
     "name": "stdout",
     "output_type": "stream",
     "text": [
      "line no  0\n",
      "line no  1\n",
      "line no  2\n",
      "line no  3\n",
      "line no  4\n",
      "line no  5\n",
      "line no  6\n",
      "line no  7\n",
      "line no  8\n",
      "line no  9\n",
      "line no  10\n"
     ]
    }
   ],
   "source": [
    "counter = 0\n",
    " \n",
    "while counter <= 10 :\n",
    "    print(\"line no \",counter)\n",
    "    counter += 1"
   ]
  },
  {
   "cell_type": "code",
   "execution_count": 49,
   "metadata": {},
   "outputs": [
    {
     "name": "stdout",
     "output_type": "stream",
     "text": [
      "enter no: 4\n",
      "1 x 1 = 1\t2 x 1 = 2\t3 x 1 = 3\t4 x 1 = 4\t\n",
      "1 x 2 = 2\t2 x 2 = 4\t3 x 2 = 6\t4 x 2 = 8\t\n",
      "1 x 3 = 3\t2 x 3 = 6\t3 x 3 = 9\t4 x 3 = 12\t\n",
      "1 x 4 = 4\t2 x 4 = 8\t3 x 4 = 12\t4 x 4 = 16\t\n",
      "1 x 5 = 5\t2 x 5 = 10\t3 x 5 = 15\t4 x 5 = 20\t\n",
      "1 x 6 = 6\t2 x 6 = 12\t3 x 6 = 18\t4 x 6 = 24\t\n",
      "1 x 7 = 7\t2 x 7 = 14\t3 x 7 = 21\t4 x 7 = 28\t\n",
      "1 x 8 = 8\t2 x 8 = 16\t3 x 8 = 24\t4 x 8 = 32\t\n",
      "1 x 9 = 9\t2 x 9 = 18\t3 x 9 = 27\t4 x 9 = 36\t\n",
      "1 x 10 = 10\t2 x 10 = 20\t3 x 10 = 30\t4 x 10 = 40\t\n"
     ]
    }
   ],
   "source": [
    "user = int(input(\"enter no: \"))\n",
    "\n",
    "for r in range(1,11):\n",
    "    for c in range(1, user+1):\n",
    "        print(f\"{c} x {r} = {c*r}\", end =\"\\t\")\n",
    "    print()"
   ]
  },
  {
   "cell_type": "code",
   "execution_count": null,
   "metadata": {},
   "outputs": [],
   "source": []
  }
 ],
 "metadata": {
  "kernelspec": {
   "display_name": "Python 3",
   "language": "python",
   "name": "python3"
  },
  "language_info": {
   "codemirror_mode": {
    "name": "ipython",
    "version": 3
   },
   "file_extension": ".py",
   "mimetype": "text/x-python",
   "name": "python",
   "nbconvert_exporter": "python",
   "pygments_lexer": "ipython3",
   "version": "3.8.5"
  }
 },
 "nbformat": 4,
 "nbformat_minor": 4
}
